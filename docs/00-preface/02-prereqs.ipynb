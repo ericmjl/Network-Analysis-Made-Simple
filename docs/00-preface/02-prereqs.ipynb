{
 "cells": [
  {
   "cell_type": "markdown",
   "metadata": {},
   "source": [
    "To get maximum benefit from this book, you should know how to program in Python.\n",
    "(Hint: it's an extremely useful skill to know!)\n",
    "In particular, knowing how to:\n",
    "\n",
    "1. use dictionaries,\n",
    "1. write list comprehensions, and\n",
    "1. handle `pandas` DataFrames,\n",
    "\n",
    "will help you a ton during the tutorial.\n",
    "\n",
    "## Exercises\n",
    "\n",
    "We have a few exercises below that should help you get warmed up."
   ]
  },
  {
   "cell_type": "markdown",
   "metadata": {},
   "source": [
    "### Exercise 1\n"
   ]
  },
  {
   "cell_type": "markdown",
   "metadata": {},
   "source": [
    "Given the following line of code:\n",
    "\n",
    "```python\n",
    "[s for s in my_fav_things if s[‘name’] == ‘raindrops on roses’]\n",
    "```\n",
    "\n",
    "What are plausible data structures for `s` and `my_fav_things`?"
   ]
  },
  {
   "cell_type": "markdown",
   "metadata": {},
   "source": [
    "### Exercise 2"
   ]
  },
  {
   "cell_type": "markdown",
   "metadata": {},
   "source": [
    "Given the following data:"
   ]
  },
  {
   "cell_type": "code",
   "execution_count": null,
   "metadata": {},
   "outputs": [],
   "source": [
    "names = [\n",
    "    {\n",
    "        'name': 'Eric',\n",
    "         'surname': 'Ma'\n",
    "    },\n",
    "    {\n",
    "        'name': 'Jeffrey',\n",
    "        'surname': 'Elmer'\n",
    "    },\n",
    "    {\n",
    "        'name': 'Mike',\n",
    "        'surname': 'Lee'\n",
    "    },\n",
    "    {\n",
    "        'name': 'Jennifer',\n",
    "        'surname': 'Elmer'\n",
    "    }\n",
    "]"
   ]
  },
  {
   "cell_type": "markdown",
   "metadata": {},
   "source": [
    "Write a function that takes in the `names` list of dictionaries\n",
    "and returns the dictionaries in which the `surname` value\n",
    "matches exactly some `query_surname`."
   ]
  },
  {
   "cell_type": "code",
   "execution_count": null,
   "metadata": {},
   "outputs": [],
   "source": [
    "def find_persons_with_surname(persons, query_surname):\n",
    "    # Assert that the persons parameter is a list. \n",
    "    # This is a good defensive programming practice.\n",
    "    assert isinstance(persons, list)   \n",
    "    \n",
    "    results = []\n",
    "    for ______ in ______:\n",
    "        if ___________ == __________:\n",
    "            results.append(________)\n",
    "    \n",
    "    return results"
   ]
  },
  {
   "cell_type": "markdown",
   "metadata": {},
   "source": [
    "To test your implementation, check it with the following code.\n",
    "No errors should be raised."
   ]
  },
  {
   "cell_type": "code",
   "execution_count": null,
   "metadata": {},
   "outputs": [],
   "source": [
    "# Test your result below.\n",
    "# results = find_persons_with_surname(names, 'Lee')\n",
    "# assert len(results) == 1\n",
    "\n",
    "# results = find_persons_with_surname(names, 'Elmer')\n",
    "# assert len(results) == 2"
   ]
  }
 ],
 "metadata": {
  "kernelspec": {
   "display_name": "nams",
   "language": "python",
   "name": "nams"
  },
  "language_info": {
   "codemirror_mode": {
    "name": "ipython",
    "version": 3
   },
   "file_extension": ".py",
   "mimetype": "text/x-python",
   "name": "python",
   "nbconvert_exporter": "python",
   "pygments_lexer": "ipython3",
   "version": "3.7.7"
  },
  "toc": {
   "colors": {
    "hover_highlight": "#DAA520",
    "navigate_num": "#000000",
    "navigate_text": "#333333",
    "running_highlight": "#FF0000",
    "selected_highlight": "#FFD700",
    "sidebar_border": "#EEEEEE",
    "wrapper_background": "#FFFFFF"
   },
   "moveMenuLeft": true,
   "nav_menu": {
    "height": "30px",
    "width": "252px"
   },
   "navigate_menu": true,
   "number_sections": true,
   "sideBar": true,
   "threshold": 4,
   "toc_cell": false,
   "toc_section_display": "block",
   "toc_window_display": false,
   "widenNotebook": false
  },
  "varInspector": {
   "cols": {
    "lenName": 16,
    "lenType": 16,
    "lenVar": 40
   },
   "kernels_config": {
    "python": {
     "delete_cmd_postfix": "",
     "delete_cmd_prefix": "del ",
     "library": "var_list.py",
     "varRefreshCmd": "print(var_dic_list())"
    },
    "r": {
     "delete_cmd_postfix": ") ",
     "delete_cmd_prefix": "rm(",
     "library": "var_list.r",
     "varRefreshCmd": "cat(var_dic_list()) "
    }
   },
   "types_to_exclude": [
    "module",
    "function",
    "builtin_function_or_method",
    "instance",
    "_Feature"
   ],
   "window_display": false
  }
 },
 "nbformat": 4,
 "nbformat_minor": 4
}
