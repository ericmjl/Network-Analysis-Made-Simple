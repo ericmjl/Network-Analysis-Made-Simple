{
 "cells": [
  {
   "cell_type": "code",
   "execution_count": null,
   "metadata": {},
   "outputs": [],
   "source": [
    "%load_ext autoreload\n",
    "%autoreload 2\n",
    "%matplotlib inline\n",
    "%config InlineBackend.figure_format = 'retina'"
   ]
  },
  {
   "cell_type": "markdown",
   "metadata": {
    "slideshow": {
     "slide_type": "slide"
    }
   },
   "source": [
    "## Introduction"
   ]
  },
  {
   "cell_type": "code",
   "execution_count": null,
   "metadata": {},
   "outputs": [],
   "source": [
    "from IPython.display import YouTubeVideo\n",
    "\n",
    "YouTubeVideo(id=\"v9HrR_AF5Zc\", width=\"100%\")"
   ]
  },
  {
   "cell_type": "markdown",
   "metadata": {
    "slideshow": {
     "slide_type": "slide"
    }
   },
   "source": [
    "In this chapter, We want to introduce you to the wonderful world of graph visualization.\n",
    "\n",
    "You probably have seen graphs that are visualized as hairballs.\n",
    "Apart from communicating how complex the graph is,\n",
    "hairballs don't really communicate much else.\n",
    "As such, my goal by the end of this chapter is \n",
    "to introduce you to what I call _rational graph visualization_.\n",
    "\n",
    "But before we can do that, let's first make sure we understand\n",
    "how to use NetworkX's drawing facilities to draw graphs to the screen.\n",
    "In a pinch, and for small graphs, it's very handy to have."
   ]
  },
  {
   "cell_type": "markdown",
   "metadata": {},
   "source": [
    "## Hairballs\n",
    "\n",
    "The node-link diagram is the canonical diagram we will see in publications.\n",
    "Nodes are commonly drawn as circles, while edges are drawn s lines.\n",
    "\n",
    "Node-link diagrams are common,\n",
    "and there's a good reason for this: it's convenient to draw!\n",
    "In NetworkX, we can draw node-link diagrams using:"
   ]
  },
  {
   "cell_type": "code",
   "execution_count": null,
   "metadata": {},
   "outputs": [],
   "source": [
    "from nams import load_data as cf\n",
    "import networkx as nx\n",
    "import matplotlib.pyplot as plt\n",
    "\n",
    "G = cf.load_seventh_grader_network()"
   ]
  },
  {
   "cell_type": "code",
   "execution_count": null,
   "metadata": {
    "slideshow": {
     "slide_type": "subslide"
    }
   },
   "outputs": [],
   "source": [
    "nx.draw(G)"
   ]
  },
  {
   "cell_type": "markdown",
   "metadata": {},
   "source": [
    "Nodes more tightly connected with one another are clustered together. \n",
    "Initial node placement is done typically at random,\n",
    "so really it's tough to deterministically generate the same figure.\n",
    "If the network is small enough to visualize,\n",
    "and the node labels are small enough to fit in a circle,\n",
    "then you can use the `with_labels=True` argument\n",
    "to bring some degree of informativeness to the drawing:"
   ]
  },
  {
   "cell_type": "code",
   "execution_count": null,
   "metadata": {
    "slideshow": {
     "slide_type": "fragment"
    }
   },
   "outputs": [],
   "source": [
    "nx.draw(G, with_labels=True)"
   ]
  },
  {
   "cell_type": "markdown",
   "metadata": {
    "slideshow": {
     "slide_type": "subslide"
    }
   },
   "source": [
    "The downside to drawing graphs this way is that\n",
    "large graphs end up looking like hairballs.\n",
    "Can you imagine a graph with more than the 28 nodes that we have?\n",
    "As you probably can imagine, the default `nx.draw(G)`\n",
    "is probably not suitable for generating visual insights.\n",
    "\n",
    "## Matrix Plot\n",
    "\n",
    "A different way that we can visualize a graph is by visualizing it in its matrix form.\n",
    "The nodes are on the x- and y- axes, and a filled square represent an edge between the nodes.\n",
    "\n",
    "We can draw a graph's matrix form conveniently by using `nxviz.MatrixPlot`:"
   ]
  },
  {
   "cell_type": "code",
   "execution_count": null,
   "metadata": {
    "slideshow": {
     "slide_type": "subslide"
    }
   },
   "outputs": [],
   "source": [
    "from nxviz import MatrixPlot\n",
    "\n",
    "m = MatrixPlot(G)\n",
    "m.draw()"
   ]
  },
  {
   "cell_type": "markdown",
   "metadata": {},
   "source": [
    "What can you tell from the graph visualization?\n",
    "A few things are immediately obvious:\n",
    "\n",
    "- The diagonal is empty: no student voted for themselves as their favourite.\n",
    "- The matrix is asymmetric about the diagonal: this is a directed graph!\n",
    "\n",
    "(An undirected graph would be symmetric about the diagonal.)\n",
    "\n",
    "You might go on to suggest that there is some clustering happening,\n",
    "but without applying a proper clustering algorithm on the adjacency matrix,\n",
    "we would be hard-pressed to know for sure.\n",
    "After all, we can simply re-order the node ordering along the axes\n",
    "to produce a seemingly-random matrix."
   ]
  },
  {
   "cell_type": "markdown",
   "metadata": {},
   "source": [
    "## Arc Plot\n",
    "\n",
    "The Arc Plot is another rational graph visualization.\n",
    "Here, we line up the nodes along a horizontal axis,\n",
    "and draw _arcs_ between nodes if they are connected by an edge.\n",
    "We can also optionally group and colour them by some metadata.\n",
    "In the case of this student graph,\n",
    "we group and colour them by \"gender\"."
   ]
  },
  {
   "cell_type": "code",
   "execution_count": null,
   "metadata": {},
   "outputs": [],
   "source": [
    "from nxviz import ArcPlot\n",
    "\n",
    "a = ArcPlot(G, node_color='gender', node_grouping='gender')\n",
    "a.draw()"
   ]
  },
  {
   "cell_type": "markdown",
   "metadata": {},
   "source": [
    "The Arc Plot forms the basis of the next visualization,\n",
    "the highly popular Circos plot."
   ]
  },
  {
   "cell_type": "markdown",
   "metadata": {
    "slideshow": {
     "slide_type": "subslide"
    }
   },
   "source": [
    "## Circos Plot\n",
    "\n",
    "The Circos Plot was developed by [Martin Krzywinski][bccrc] at the BC Cancer Research Center. The `nxviz.CircosPlot` takes inspiration from the original by joining the two ends of the Arc Plot into a circle. Likewise, we can colour and order nodes by node metadata:\n",
    "\n",
    "[bccrc]: http://circos.ca/"
   ]
  },
  {
   "cell_type": "code",
   "execution_count": null,
   "metadata": {
    "slideshow": {
     "slide_type": "subslide"
    }
   },
   "outputs": [],
   "source": [
    "from nxviz import CircosPlot\n",
    "\n",
    "c = CircosPlot(G, node_color='gender', node_grouping='gender')\n",
    "c.draw()"
   ]
  },
  {
   "cell_type": "markdown",
   "metadata": {
    "slideshow": {
     "slide_type": "subslide"
    }
   },
   "source": [
    "Generally speaking, you can think of a Circos Plot as being\n",
    "a more compact and aesthetically pleasing version of Arc Plots.\n",
    "\n",
    "## Hive Plot\n",
    "\n",
    "The final plot we'll show is, Hive Plots.\n",
    "HivePlots are not yet implemented in `nxviz` just yet,\n",
    "so we're going to be using the old `hiveplot` API for this.\n",
    "When HivePlots have been migrated over to `nxviz`,\n",
    "its API will resemble that of the CircosPlot's. "
   ]
  },
  {
   "cell_type": "code",
   "execution_count": null,
   "metadata": {
    "slideshow": {
     "slide_type": "subslide"
    }
   },
   "outputs": [],
   "source": [
    "from hiveplot import HivePlot\n",
    "\n",
    "nodes = dict()\n",
    "nodes['male'] = [n for n,d in G.nodes(data=True) if d['gender'] == 'male']\n",
    "nodes['female'] = [n for n,d in G.nodes(data=True) if d['gender'] == 'female']\n",
    "\n",
    "edges = dict()\n",
    "edges['group1'] = G.edges(data=True)\n",
    "\n",
    "nodes_cmap = dict()\n",
    "nodes_cmap['male'] = 'blue'\n",
    "nodes_cmap['female'] = 'red'\n",
    "\n",
    "edges_cmap = dict()\n",
    "edges_cmap['group1'] = 'black'"
   ]
  },
  {
   "cell_type": "code",
   "execution_count": null,
   "metadata": {
    "slideshow": {
     "slide_type": "subslide"
    }
   },
   "outputs": [],
   "source": [
    "h = HivePlot(nodes, edges, nodes_cmap, edges_cmap)\n",
    "h.draw()"
   ]
  },
  {
   "cell_type": "markdown",
   "metadata": {
    "slideshow": {
     "slide_type": "fragment"
    }
   },
   "source": [
    "As you can see, with Hive Plots,\n",
    "we first group nodes along two or three radial axes.\n",
    "In this case, we have the boys along one radial axis\n",
    "and the girls along the other.\n",
    "We can also order the nodes along each axis if we so choose to.\n",
    "In this case, no particular ordering is chosen.\n",
    "\n",
    "Next, we draw edges.\n",
    "We start first with edges _between_ groups.\n",
    "That is shown on the left side of the figure,\n",
    "joining nodes in the \"red\" and \"blue\" (boys/girls) groups.\n",
    "We then proceed to edges _within_ groups.\n",
    "This is done by cloning the node radial axis\n",
    "before drawing edges."
   ]
  },
  {
   "cell_type": "markdown",
   "metadata": {},
   "source": [
    "## Principles of Rational Graph Viz\n",
    "\n",
    "While I was implementing these visualizations in `nxviz`,\n",
    "I learned an important lesson in implementing graph visualizations in general:\n",
    "\n",
    "> To be most informative and communicative,\n",
    "> a graph visualization should first prioritize node placement\n",
    "> in a fashion that makes sense.\n",
    "\n",
    "In some ways, this makes a ton of sense.\n",
    "The nodes are the \"entities\" in a graph,\n",
    "corresponding to people, proteins, and ports.\n",
    "For \"entities\", we have natural ways to group, order and summarize (reduce).\n",
    "(An example of a \"reduction\" is counting the number of things.)\n",
    "Prioritizing node placement allows us\n",
    "to appeal to our audience's natural sense of grouping, ordering and reduction.\n",
    "\n",
    "So the next time you see a hairball,\n",
    "I hope you're able to critique it for what it doesn't communicate,\n",
    "and possibly use the same principle to design a better visualization!"
   ]
  }
 ],
 "metadata": {
  "kernelspec": {
   "display_name": "nams",
   "language": "python",
   "name": "nams"
  },
  "language_info": {
   "codemirror_mode": {
    "name": "ipython",
    "version": 3
   },
   "file_extension": ".py",
   "mimetype": "text/x-python",
   "name": "python",
   "nbconvert_exporter": "python",
   "pygments_lexer": "ipython3",
   "version": "3.7.7"
  }
 },
 "nbformat": 4,
 "nbformat_minor": 4
}
