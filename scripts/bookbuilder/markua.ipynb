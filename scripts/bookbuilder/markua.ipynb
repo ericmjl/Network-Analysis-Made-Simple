{
 "cells": [
  {
   "cell_type": "markdown",
   "metadata": {},
   "source": [
    "# An attempt at writing a script that can convert every specified file to markua for publication on Leanpub"
   ]
  },
  {
   "cell_type": "code",
   "execution_count": null,
   "metadata": {},
   "outputs": [],
   "source": [
    "from lib import read_mkdocs"
   ]
  },
  {
   "cell_type": "code",
   "execution_count": null,
   "metadata": {},
   "outputs": [],
   "source": [
    "from pyprojroot import here"
   ]
  },
  {
   "cell_type": "code",
   "execution_count": null,
   "metadata": {},
   "outputs": [],
   "source": [
    "mkdocs_config = read_mkdocs()\n",
    "nav = mkdocs_config[\"nav\"]\n",
    "docroot = here() / \"docs\"\n"
   ]
  },
  {
   "cell_type": "code",
   "execution_count": null,
   "metadata": {},
   "outputs": [],
   "source": [
    "from lib import parse_navigation\n",
    "\n",
    "# The goal here is to flatten the tree structure into a list of 2-tuples,\n",
    "# where the title is the first element and the filename is the second element.\n",
    "title_files = parse_navigation(nav, [])\n",
    "title_files.insert(0, ('Preface', 'preface/preface.md'))\n",
    "title_files"
   ]
  },
  {
   "cell_type": "code",
   "execution_count": null,
   "metadata": {},
   "outputs": [],
   "source": [
    "from lib import exclude\n",
    "\n",
    "exclusion = [\n",
    "    \"Welcome\", \n",
    "    \"Get Setup\",\n",
    "    \"Prerequisites\",\n",
    "    \"Further Learning\",\n",
    "    \"Style Guide\",\n",
    "]\n",
    "\n",
    "title_files = exclude(title_files, titles=exclusion)\n"
   ]
  },
  {
   "cell_type": "code",
   "execution_count": null,
   "metadata": {},
   "outputs": [],
   "source": [
    "title_files"
   ]
  },
  {
   "cell_type": "markdown",
   "metadata": {},
   "source": [
    "We now need to convert each of the files into Markua."
   ]
  },
  {
   "cell_type": "code",
   "execution_count": null,
   "metadata": {},
   "outputs": [],
   "source": [
    "from nbconvert.exporters import MarkdownExporter\n",
    "from nbformat.notebooknode import NotebookNode\n",
    "from nbconvert.preprocessors import ExecutePreprocessor\n",
    "from lib import strip_execution_count\n",
    "\n",
    "def nb2markdown(nb: NotebookNode, kernel: str):\n",
    "    \"\"\"\n",
    "    Compile final notebook into a single PDF while executing it.\n",
    "\n",
    "    :param nb: The compiled notebook object with all notebook cells.\n",
    "    :param kernel: String name of the kernel to output.\n",
    "    :param fpath: The path to write hte notebook to.\n",
    "    \"\"\"\n",
    "    ep = ExecutePreprocessor(timeout=600, kernel_name=kernel)\n",
    "    ep.preprocess(nb)\n",
    "\n",
    "    strip_execution_count(nb)\n",
    "    pdf_exporter = MarkdownExporter()\n",
    "    body, resources = pdf_exporter.from_notebook_node(nb)\n",
    "    return body, resources\n"
   ]
  },
  {
   "cell_type": "code",
   "execution_count": null,
   "metadata": {},
   "outputs": [],
   "source": [
    "from lib import read_notebook"
   ]
  },
  {
   "cell_type": "code",
   "execution_count": null,
   "metadata": {},
   "outputs": [],
   "source": [
    "sample_chapters = [\"Preface\", \"Learning Goals\", \"Introduction to Graphs\", \"The NetworkX API\"]"
   ]
  },
  {
   "cell_type": "code",
   "execution_count": null,
   "metadata": {},
   "outputs": [],
   "source": [
    "# Now, convert everything into plain text markdown."
   ]
  },
  {
   "cell_type": "code",
   "execution_count": null,
   "metadata": {},
   "outputs": [],
   "source": [
    "from pathlib import Path\n",
    "from pyprojroot import here\n",
    "\n",
    "build_dir = here() / \"manuscript\"\n",
    "build_dir.mkdir(parents=True, exist_ok=True)\n",
    "\n",
    "resources_dir = build_dir / \"resources\"\n",
    "resources_dir.mkdir(parents=True, exist_ok=True)"
   ]
  },
  {
   "cell_type": "code",
   "execution_count": null,
   "metadata": {},
   "outputs": [],
   "source": [
    "import logging\n",
    "\n",
    "\n",
    "logger = logging.getLogger()\n",
    "logger.setLevel(logging.INFO)\n",
    "\n",
    "book_txt = \"\"\n",
    "\n",
    "for chapter, fpath_str in title_files:\n",
    "    logging.info(f\"Processing chapter {chapter}\")\n",
    "    fpath = Path(fpath_str)\n",
    "    source_path = docroot / fpath\n",
    "    # Handle notebooks\n",
    "    if source_path.suffix == \".ipynb\":\n",
    "        text, resources = nb2markdown(read_notebook(source_path), kernel=\"nams\")\n",
    "    # Handle \n",
    "    else:\n",
    "        with open(source_path, \"r+\") as f:\n",
    "            text = f.read()\n",
    "        resources = dict()\n",
    "        resources[\"outputs\"] = dict()\n",
    "        \n",
    "    text = f\"# {chapter}\\n\\n\" + text\n",
    "\n",
    "    if chapter in sample_chapters:\n",
    "        insert = \"{sample: true}\\n\\n\"\n",
    "        text = insert + text\n",
    "    \n",
    "    markdown_dir = (build_dir / fpath).with_suffix(\".md\")\n",
    "    markdown_dir.mkdir(parents=True, exist_ok=True)\n",
    "    \n",
    "#     images_dir = (resources_dir / fpath).with_suffix(\".md\")\n",
    "#     images_dir.mkdir(parents=True, exist_ok=True)\n",
    "    \n",
    "    # Write the text out\n",
    "    with open(markdown_dir / \"index.md\", \"w+\") as f:\n",
    "        f.write(text)\n",
    "        \n",
    "    # Write the resources out\n",
    "    for k, v in resources[\"outputs\"].items():\n",
    "        with open(markdown_dir / k, \"wb\") as f:\n",
    "            f.write(v)\n",
    "            \n",
    "    book_txt = book_txt + str(fpath.with_suffix(\".md\") / \"index.md\") + \"\\n\"\n"
   ]
  },
  {
   "cell_type": "code",
   "execution_count": null,
   "metadata": {},
   "outputs": [],
   "source": [
    "with open(build_dir / \"Book.txt\", \"w+\") as f:\n",
    "    f.write(book_txt)"
   ]
  },
  {
   "cell_type": "code",
   "execution_count": null,
   "metadata": {},
   "outputs": [],
   "source": []
  }
 ],
 "metadata": {
  "kernelspec": {
   "display_name": "nams",
   "language": "python",
   "name": "nams"
  },
  "language_info": {
   "codemirror_mode": {
    "name": "ipython",
    "version": 3
   },
   "file_extension": ".py",
   "mimetype": "text/x-python",
   "name": "python",
   "nbconvert_exporter": "python",
   "pygments_lexer": "ipython3",
   "version": "3.7.7"
  }
 },
 "nbformat": 4,
 "nbformat_minor": 4
}
