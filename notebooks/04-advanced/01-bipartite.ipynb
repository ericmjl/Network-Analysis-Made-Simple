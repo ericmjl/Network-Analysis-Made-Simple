{
 "cells": [
  {
   "cell_type": "code",
   "execution_count": null,
   "metadata": {},
   "outputs": [],
   "source": [
    "%load_ext autoreload\n",
    "%autoreload 2\n",
    "%matplotlib inline\n",
    "%config InlineBackend.figure_format = 'retina'"
   ]
  },
  {
   "cell_type": "markdown",
   "metadata": {},
   "source": [
    "## Introduction"
   ]
  },
  {
   "cell_type": "code",
   "execution_count": null,
   "metadata": {},
   "outputs": [],
   "source": [
    "from IPython.display import YouTubeVideo\n",
    "\n",
    "YouTubeVideo(id=\"BYOK12I9vgI\", width=\"100%\")"
   ]
  },
  {
   "cell_type": "markdown",
   "metadata": {},
   "source": [
    "In this chapter, we will look at bipartite graphs and their applications.\n",
    "\n",
    "## What are bipartite graphs?\n",
    "\n",
    "As the name suggests,\n",
    "bipartite have two (bi) node partitions (partite).\n",
    "In other words, we can assign nodes to one of the two partitions.\n",
    "(By contrast, all of the graphs that we have seen before are _unipartite_:\n",
    "they only have a single partition.)\n",
    "\n",
    "### Rules for bipartite graphs\n",
    "\n",
    "With unipartite graphs, you might remember a few rules that apply.\n",
    "\n",
    "Firstly, nodes and edges belong to a _set_.\n",
    "This means the node set contains only unique members,\n",
    "i.e. no node can be duplicated.\n",
    "The same applies for the edge set.\n",
    "\n",
    "On top of those two basic rules, bipartite graphs add an additional rule:\n",
    "Edges can only occur between nodes of **different** partitions.\n",
    "In other words, nodes within the same partition \n",
    "are not allowed to be connected to one another.\n",
    "\n",
    "### Applications of bipartite graphs\n",
    "\n",
    "Where do we see bipartite graphs being used?\n",
    "Here's one that is very relevant to e-commerce,\n",
    "which touches our daily lives:\n",
    "\n",
    "> We can model customer purchases of products using a bipartite graph.\n",
    "> Here, the two node sets are **customer** nodes and **product** nodes,\n",
    "> and edges indicate that a customer $C$ purchased a product $P$.\n",
    "\n",
    "On the basis of this graph, we can do interesting analyses,\n",
    "such as finding customers that are similar to one another\n",
    "on the basis of their shared product purchases.\n",
    "\n",
    "Can you think of other situations\n",
    "where a bipartite graph model can be useful?\n",
    "\n",
    "## Dataset\n",
    "\n",
    "Here's another application in crime analysis,\n",
    "which is relevant to the example that we will use in this chapter:\n",
    "\n",
    "> This bipartite network contains persons\n",
    "> who appeared in at least one crime case \n",
    "> as either a suspect, a victim, a witness \n",
    "> or both a suspect and victim at the same time. \n",
    "> A left node represents a person and a right node represents a crime. \n",
    "> An edge between two nodes shows that \n",
    "> the left node was involved in the crime \n",
    "> represented by the right node.\n",
    "\n",
    "This crime dataset was also sourced from Konect."
   ]
  },
  {
   "cell_type": "code",
   "execution_count": null,
   "metadata": {},
   "outputs": [],
   "source": [
    "from nams import load_data as cf\n",
    "G = cf.load_crime_network()"
   ]
  },
  {
   "cell_type": "markdown",
   "metadata": {},
   "source": [
    "If you inspect the nodes,\n",
    "you will see that they contain a special metadata keyword: `bipartite`.\n",
    "This is a special keyword that NetworkX can use \n",
    "to identify nodes of a given partition.\n",
    "\n",
    "### Exercise: Extract each node set\n",
    "\n",
    "A useful thing to be able to do\n",
    "is to extract each partition's node set.\n",
    "This will become handy when interacting with\n",
    "NetworkX's bipartite algorithms later on.\n",
    "\n",
    "> Write a function that extracts all of the nodes \n",
    "> from specified node partition.\n",
    "> It should also raise a plain Exception\n",
    "> if no nodes exist in that specified partition.\n",
    "> (as a precuation against users putting in invalid partition names)."
   ]
  },
  {
   "cell_type": "code",
   "execution_count": null,
   "metadata": {},
   "outputs": [],
   "source": [
    "import networkx as nx\n",
    "\n",
    "def extract_partition_nodes(G: nx.Graph, partition: str):\n",
    "    nodeset = [_ for _, _ in _______ if ____________]\n",
    "    if _____________:\n",
    "        raise Exception(f\"No nodes exist in the partition {partition}!\")\n",
    "    return nodeset\n",
    "\n",
    "from nams.solutions.bipartite import extract_partition_nodes\n",
    "# Uncomment the next line to see the answer.\n",
    "# extract_partition_nodes??"
   ]
  },
  {
   "cell_type": "markdown",
   "metadata": {},
   "source": [
    "## Bipartite Graph Projections\n",
    "\n",
    "In a bipartite graph, one task that can be useful to do\n",
    "is to calculate the projection of a graph onto one of its nodes.\n",
    "\n",
    "What do we mean by the \"projection of a graph\"?\n",
    "It is best visualized using this figure:"
   ]
  },
  {
   "cell_type": "code",
   "execution_count": null,
   "metadata": {},
   "outputs": [],
   "source": [
    "from nams.solutions.bipartite import draw_bipartite_graph_example\n",
    "\n",
    "draw_bipartite_graph_example()"
   ]
  },
  {
   "cell_type": "markdown",
   "metadata": {},
   "source": [
    "As shown in the figure above, we start first with a bipartite graph with two node sets,\n",
    "the \"alphabet\" set and the \"numeric\" set.\n",
    "The projection of this bipartite graph onto the \"alphabet\" node set\n",
    "is a graph that is constructed such that it only contains the \"alphabet\" nodes,\n",
    "and edges join the \"alphabet\" nodes because they share a connection to a \"numeric\" node.\n",
    "The red edge on the right\n",
    "is basically the red path traced on the left."
   ]
  },
  {
   "cell_type": "markdown",
   "metadata": {},
   "source": [
    "### Computing graph projections\n",
    "\n",
    "How does one compute graph projections using NetworkX?\n",
    "Turns out, NetworkX has a `bipartite` submodule,\n",
    "which gives us all of the facilities that we need\n",
    "to interact with bipartite algorithms.\n",
    "\n",
    "First of all, we need to check that the graph\n",
    "is indeed a bipartite graph.\n",
    "NetworkX provides a function for us to do so:"
   ]
  },
  {
   "cell_type": "code",
   "execution_count": null,
   "metadata": {},
   "outputs": [],
   "source": [
    "from networkx.algorithms import bipartite\n",
    "\n",
    "bipartite.is_bipartite(G)"
   ]
  },
  {
   "cell_type": "markdown",
   "metadata": {},
   "source": [
    "Now that we've confirmed that the graph is indeed bipartite,\n",
    "we can use the NetworkX bipartite submodule functions\n",
    "to generate the bipartite projection onto one of the node partitions.\n",
    "\n",
    "First off, we need to extract nodes from a particular partition."
   ]
  },
  {
   "cell_type": "code",
   "execution_count": null,
   "metadata": {},
   "outputs": [],
   "source": [
    "person_nodes = extract_partition_nodes(G, \"person\")\n",
    "crime_nodes = extract_partition_nodes(G, \"crime\")"
   ]
  },
  {
   "cell_type": "markdown",
   "metadata": {},
   "source": [
    "Next, we can compute the projection:"
   ]
  },
  {
   "cell_type": "code",
   "execution_count": null,
   "metadata": {},
   "outputs": [],
   "source": [
    "person_graph = bipartite.projected_graph(G, person_nodes)\n",
    "crime_graph = bipartite.projected_graph(G, crime_nodes)"
   ]
  },
  {
   "cell_type": "markdown",
   "metadata": {},
   "source": [
    "And with that, we have our projected graphs!\n",
    "\n",
    "Go ahead and inspect them:"
   ]
  },
  {
   "cell_type": "code",
   "execution_count": null,
   "metadata": {},
   "outputs": [],
   "source": [
    "list(person_graph.edges(data=True))[0:5]"
   ]
  },
  {
   "cell_type": "code",
   "execution_count": null,
   "metadata": {},
   "outputs": [],
   "source": [
    "list(crime_graph.edges(data=True))[0:5]"
   ]
  },
  {
   "cell_type": "markdown",
   "metadata": {},
   "source": [
    "Now, what is the _interpretation_ of these projected graphs?\n",
    "\n",
    "- For `person_graph`, we have found _individuals who are linked by shared participation (whether witness or suspect) in a crime._\n",
    "- For `crime_graph`, we have found _crimes that are linked by shared involvement by people._\n",
    "\n",
    "Just by this graph, we already can find out pretty useful information.\n",
    "Let's use an exercise that leverages what you already know\n",
    "to extract useful information from the projected graph."
   ]
  },
  {
   "cell_type": "markdown",
   "metadata": {},
   "source": [
    "### Exercise: find the crime(s) that have the most shared connections with other crimes\n",
    "\n",
    "> Find crimes that are most similar to one another\n",
    "> on the basis of the number of shared connections to individuals.\n",
    "\n",
    "_Hint: This is a degree centrality problem!_"
   ]
  },
  {
   "cell_type": "code",
   "execution_count": null,
   "metadata": {},
   "outputs": [],
   "source": [
    "import pandas as pd\n",
    "\n",
    "def find_most_similar_crimes(cG: nx.Graph):\n",
    "    \"\"\"\n",
    "    Find the crimes that are most similar to other crimes.\n",
    "    \"\"\"\n",
    "    dcs = ______________\n",
    "    return ___________________\n",
    "\n",
    "\n",
    "from nams.solutions.bipartite import find_most_similar_crimes\n",
    "find_most_similar_crimes(crime_graph)"
   ]
  },
  {
   "cell_type": "markdown",
   "metadata": {},
   "source": [
    "### Exercise: find the individual(s) that have the most shared connections with other individuals\n",
    "\n",
    "> Now do the analogous thing for individuals!"
   ]
  },
  {
   "cell_type": "code",
   "execution_count": null,
   "metadata": {},
   "outputs": [],
   "source": [
    "def find_most_similar_people(pG: nx.Graph):\n",
    "    \"\"\"\n",
    "    Find the persons that are most similar to other persons.\n",
    "    \"\"\"\n",
    "    dcs = ______________\n",
    "    return ___________________\n",
    "\n",
    "\n",
    "from nams.solutions.bipartite import find_most_similar_people\n",
    "find_most_similar_people(person_graph)"
   ]
  },
  {
   "cell_type": "markdown",
   "metadata": {},
   "source": [
    "## Weighted Projection\n",
    "\n",
    "Though we were able to find out which graphs were connected with one another,\n",
    "we did not record in the resulting projected graph\n",
    "the **strength** by which the two nodes were connected.\n",
    "To preserve this information, we need another function:"
   ]
  },
  {
   "cell_type": "code",
   "execution_count": null,
   "metadata": {},
   "outputs": [],
   "source": [
    "weighted_person_graph = bipartite.weighted_projected_graph(G, person_nodes)\n",
    "list(weighted_person_graph.edges(data=True))[0:5]"
   ]
  },
  {
   "cell_type": "markdown",
   "metadata": {},
   "source": [
    "### Exercise: Find the people that can help with investigating a `crime`'s `person`.\n",
    "\n",
    "Let's pretend that we are a detective trying to solve a crime,\n",
    "and that we right now need to find other individuals\n",
    "who were not implicated in the same _exact_ crime as an individual was,\n",
    "but who might be able to give us information about that individual\n",
    "because they were implicated in other crimes with that individual.\n",
    "\n",
    "> Implement a function that takes in a bipartite graph `G`, a string `person` and a string `crime`,\n",
    "> and returns a list of other `person`s that were **not** implicated in the `crime`,\n",
    "> but were connected to the `person` via other crimes.\n",
    "> It should return a _ranked list_,\n",
    "> based on the **number of shared crimes** (from highest to lowest)\n",
    "> because the ranking will help with triage."
   ]
  },
  {
   "cell_type": "code",
   "execution_count": null,
   "metadata": {},
   "outputs": [],
   "source": [
    "list(G.neighbors('p1'))"
   ]
  },
  {
   "cell_type": "code",
   "execution_count": null,
   "metadata": {},
   "outputs": [],
   "source": [
    "def find_connected_persons(G, person, crime):\n",
    "    # Step 0: Check that the given \"person\" and \"crime\" are connected.\n",
    "    if _____________________________:\n",
    "        raise ValueError(f\"Graph does not have a connection between {person} and {crime}!\")\n",
    "\n",
    "    # Step 1: calculate weighted projection for person nodes.\n",
    "    person_nodes = ____________________________________\n",
    "    person_graph = bipartite.________________________(_, ____________)\n",
    "    \n",
    "    # Step 2: Find neighbors of the given `person` node in projected graph.\n",
    "    candidate_neighbors = ___________________________________\n",
    "    \n",
    "    # Step 3: Remove candidate neighbors from the set if they are implicated in the given crime.\n",
    "    for p in G.neighbors(crime):\n",
    "        if ________________________:\n",
    "            _____________________________\n",
    "    \n",
    "    # Step 4: Rank-order the candidate neighbors by number of shared connections.\n",
    "    _________ = []\n",
    "    ## You might need a for-loop here\n",
    "    return pd.DataFrame(__________).sort_values(\"________\", ascending=False)\n",
    "\n",
    "\n",
    "from nams.solutions.bipartite import find_connected_persons\n",
    "find_connected_persons(G, 'p2', 'c10')"
   ]
  },
  {
   "cell_type": "markdown",
   "metadata": {},
   "source": [
    "## Degree Centrality\n",
    "\n",
    "The degree centrality metric is something we can calculate for bipartite graphs.\n",
    "Recall that the degree centrality metric is the number of neighbors of a node\n",
    "divided by the total number of _possible_ neighbors.\n",
    "\n",
    "In a unipartite graph, the denominator can be the total number of nodes less one\n",
    "(if self-loops are not allowed)\n",
    "or simply the total number of nodes (if self loops _are_ allowed).\n",
    "\n",
    "### Exercise: What is the denominator for bipartite graphs?\n",
    "\n",
    "Think about it for a moment, then write down your answer."
   ]
  },
  {
   "cell_type": "code",
   "execution_count": null,
   "metadata": {},
   "outputs": [],
   "source": [
    "from nams.solutions.bipartite import bipartite_degree_centrality_denominator\n",
    "from nams.functions import render_html\n",
    "render_html(bipartite_degree_centrality_denominator())"
   ]
  },
  {
   "cell_type": "markdown",
   "metadata": {},
   "source": [
    "### Exercise: Which `persons` are implicated in the most number of crimes?\n",
    "\n",
    "> Find the `persons` (singular or plural) who are connected to the most number of crimes.\n",
    "\n",
    "To do so, you will need to use `nx.bipartite.degree_centrality`,\n",
    "rather than the regular `nx.degree_centrality` function.\n",
    "\n",
    "`nx.bipartite.degree_centrality` requires that you pass in\n",
    "a node set from one of the partitions\n",
    "so that it can correctly partition nodes on the other set.\n",
    "What is returned, though, is the degree centrality\n",
    "for nodes in both sets.\n",
    "Here is an example to show you how the function is used:\n",
    "\n",
    "```python\n",
    "dcs = nx.bipartite.degree_centrality(my_graph, nodes_from_one_partition)\n",
    "```"
   ]
  },
  {
   "cell_type": "code",
   "execution_count": null,
   "metadata": {},
   "outputs": [],
   "source": [
    "def find_most_crime_person(G, person_nodes):\n",
    "    dcs = __________________________\n",
    "    return ___________________________\n",
    "\n",
    "from nams.solutions.bipartite import find_most_crime_person\n",
    "find_most_crime_person(G, person_nodes)"
   ]
  },
  {
   "cell_type": "markdown",
   "metadata": {},
   "source": [
    "## Solutions\n",
    "\n",
    "Here are the solutions to the exercises above."
   ]
  },
  {
   "cell_type": "code",
   "execution_count": null,
   "metadata": {},
   "outputs": [],
   "source": [
    "from nams.solutions import bipartite\n",
    "import inspect\n",
    "\n",
    "print(inspect.getsource(bipartite))"
   ]
  }
 ],
 "metadata": {
  "kernelspec": {
   "display_name": "nams",
   "language": "python",
   "name": "nams"
  },
  "language_info": {
   "codemirror_mode": {
    "name": "ipython",
    "version": 3
   },
   "file_extension": ".py",
   "mimetype": "text/x-python",
   "name": "python",
   "nbconvert_exporter": "python",
   "pygments_lexer": "ipython3",
   "version": "3.7.7"
  }
 },
 "nbformat": 4,
 "nbformat_minor": 4
}
