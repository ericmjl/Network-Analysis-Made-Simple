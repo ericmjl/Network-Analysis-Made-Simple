{
 "cells": [
  {
   "cell_type": "code",
   "execution_count": null,
   "metadata": {},
   "outputs": [],
   "source": [
    "%load_ext autoreload\n",
    "%autoreload 2\n",
    "%matplotlib inline\n",
    "%config InlineBackend.figure_format = 'retina'"
   ]
  },
  {
   "cell_type": "markdown",
   "metadata": {},
   "source": [
    "## Introduction"
   ]
  },
  {
   "cell_type": "code",
   "execution_count": null,
   "metadata": {},
   "outputs": [],
   "source": [
    "from IPython.display import YouTubeVideo\n",
    "\n",
    "YouTubeVideo(id=\"P-0CJpO3spg\", width=\"100%\")"
   ]
  },
  {
   "cell_type": "markdown",
   "metadata": {},
   "source": [
    "In this chapter, we are going to take a look at how to perform statistical inference on graphs."
   ]
  },
  {
   "cell_type": "markdown",
   "metadata": {},
   "source": [
    "## Statistics refresher\n",
    "\n",
    "Before we can proceed with statistical inference on graphs,\n",
    "we must first refresh ourselves with some ideas from the world of statistics.\n",
    "Otherwise, the methods that we will end up using\n",
    "may seem a tad _weird_, and hence difficult to follow along.\n",
    "\n",
    "To review statistical ideas,\n",
    "let's set up a few statements and explore what they mean."
   ]
  },
  {
   "cell_type": "markdown",
   "metadata": {},
   "source": [
    "## We are concerned with models of randomness\n",
    "\n",
    "As with all things statistics, we are concerned with models of randomness.\n",
    "Here, probability distributions give us a way to think about random events\n",
    "and how to assign credibility points to them."
   ]
  },
  {
   "cell_type": "markdown",
   "metadata": {},
   "source": [
    "### In an abstract fashion...\n",
    "\n",
    "The supremely abstract way of thinking about a probability distribution\n",
    "is that it is the space of all possibilities of \"stuff\"\n",
    "with different credibility points _distributed_ amongst each possible \"thing\"."
   ]
  },
  {
   "cell_type": "markdown",
   "metadata": {},
   "source": [
    "### More concretely: the coin flip\n",
    "\n",
    "A more concrete example is to consider the coin flip.\n",
    "Here, the space of all possibilities of \"stuff\" is the set of \"heads\" and \"tails\".\n",
    "If we have a fair coin, then we have 0.5 credibility points _distributed_\n",
    "to each of \"heads\" and \"tails\"."
   ]
  },
  {
   "cell_type": "markdown",
   "metadata": {},
   "source": [
    "### Another example: dice rolls\n",
    "\n",
    "Another concrete example is to consider the six-sided dice.\n",
    "Here, the space of all possibilities of \"stuff\" is the set of numbers in the range $[1, 6]$.\n",
    "If we have a fair dice, then we have 1/6 credibility points assigned\n",
    "to each of the numbers.\n",
    "(Unfair dice will have an unequal _distribution_ of credibility points across each face.)"
   ]
  },
  {
   "cell_type": "markdown",
   "metadata": {},
   "source": [
    "### A graph-based example: social networks\n",
    "\n",
    "If we receive an undirected social network graph with 5 nodes and 6 edges,\n",
    "we have to keep in mind that this graph with 6 edges\n",
    "was merely one of $15 \\choose 6$ ways to construct 5 node, 6 edge graphs.\n",
    "(15 comes up because there are 15 edges that can be constructed in a 5-node undirected graph.)"
   ]
  },
  {
   "cell_type": "markdown",
   "metadata": {},
   "source": [
    "## Hypothesis Testing\n",
    "\n",
    "A commonplace task in statistical inferences\n",
    "is calculating the probability of observing a value or something more extreme\n",
    "under an assumed \"null\" model of reality.\n",
    "This is what we commonly call \"hypothesis testing\",\n",
    "and where the oft-misunderstood term \"p-value\" shows up."
   ]
  },
  {
   "cell_type": "markdown",
   "metadata": {},
   "source": [
    "### Hypothesis testing in coin flips, by simulation\n",
    "\n",
    "As an example, hypothesis testing in coin flips follows this logic:\n",
    "\n",
    "- I observe that 8 out of 10 coin tosses give me heads, giving me a probability of heads $p=0.8$ (a summary statistic).\n",
    "- Under a \"null distribution\" of a fair coin, I simulate the distribution of probability of heads (the summary statistic) that I would get from 10 coin tosses.\n",
    "- Finally, I use that distribution to calculate the probability of observing $p=0.8$ or more extreme."
   ]
  },
  {
   "cell_type": "markdown",
   "metadata": {},
   "source": [
    "### Hypothesis testing in graphs\n",
    "\n",
    "The same protocol applies when we perform hypothesis testing on graphs.\n",
    "\n",
    "Firstly, we calculate a _summary statistic_ that describes our graph.\n",
    "\n",
    "Secondly, we propose a _null graph model_, and calculate our summary statistic under simulated versions of that null graph model.\n",
    "\n",
    "Thirdly, we look at the probability of observing the summary statistic value that we calculated in step 1 or more extreme, under the assumed graph null model distribution."
   ]
  },
  {
   "cell_type": "markdown",
   "metadata": {},
   "source": [
    "## Stochastic graph creation models\n",
    "\n",
    "Since we are going to be dealing with models of randomness in graphs,\n",
    "let's take a look at some examples."
   ]
  },
  {
   "cell_type": "markdown",
   "metadata": {},
   "source": [
    "### Erdos-Renyi (a.k.a. \"binomial\") graph\n",
    "\n",
    "On easy one to study is the Erdos-Renyi graph, also known as the \"binomial\" graph.\n",
    "\n",
    "The data generation story here is that we instantiate an undirected graph with $n$ nodes,\n",
    "giving $\\frac{n^2 - n}{2}$ possible edges.\n",
    "Each edge has a probability $p$ of being created."
   ]
  },
  {
   "cell_type": "code",
   "execution_count": null,
   "metadata": {},
   "outputs": [],
   "source": [
    "import networkx as nx\n",
    "\n",
    "\n",
    "G_er = nx.erdos_renyi_graph(n=30, p=0.2)"
   ]
  },
  {
   "cell_type": "code",
   "execution_count": null,
   "metadata": {},
   "outputs": [],
   "source": [
    "nx.draw(G_er)"
   ]
  },
  {
   "cell_type": "markdown",
   "metadata": {},
   "source": [
    "You can verify that there's approximately 20% of $\\frac{30^2 - 30}{2} = 435$."
   ]
  },
  {
   "cell_type": "code",
   "execution_count": null,
   "metadata": {},
   "outputs": [],
   "source": [
    "len(G_er.edges())"
   ]
  },
  {
   "cell_type": "code",
   "execution_count": null,
   "metadata": {},
   "outputs": [],
   "source": [
    "len(G_er.edges()) / 435"
   ]
  },
  {
   "cell_type": "markdown",
   "metadata": {},
   "source": [
    "We can also look at the degree distribution:"
   ]
  },
  {
   "cell_type": "code",
   "execution_count": null,
   "metadata": {},
   "outputs": [],
   "source": [
    "import pandas as pd\n",
    "from nams.functions import ecdf\n",
    "import matplotlib.pyplot as plt\n",
    "\n",
    "x, y = ecdf(pd.Series(dict(nx.degree(G_er))))\n",
    "plt.scatter(x, y)"
   ]
  },
  {
   "cell_type": "markdown",
   "metadata": {},
   "source": [
    "### Barabasi-Albert Graph\n",
    "\n",
    "The data generating story of this graph generator is essentially that nodes that have lots of edges preferentially get new edges attached onto them. \n",
    "This is what we call a \"preferential attachment\" process."
   ]
  },
  {
   "cell_type": "code",
   "execution_count": null,
   "metadata": {},
   "outputs": [],
   "source": [
    "G_ba = nx.barabasi_albert_graph(n=30, m=3)\n",
    "nx.draw(G_ba)"
   ]
  },
  {
   "cell_type": "code",
   "execution_count": null,
   "metadata": {},
   "outputs": [],
   "source": [
    "len(G_ba.edges())"
   ]
  },
  {
   "cell_type": "markdown",
   "metadata": {},
   "source": [
    "And the degree distribution:"
   ]
  },
  {
   "cell_type": "code",
   "execution_count": null,
   "metadata": {},
   "outputs": [],
   "source": [
    "x, y = ecdf(pd.Series(dict(nx.degree(G_ba))))\n",
    "plt.scatter(x, y)"
   ]
  },
  {
   "cell_type": "markdown",
   "metadata": {},
   "source": [
    "You can see that even though the number of edges between the two graphs are similar,\n",
    "their degree distribution is wildly different."
   ]
  },
  {
   "cell_type": "markdown",
   "metadata": {
    "slideshow": {
     "slide_type": "slide"
    }
   },
   "source": [
    "## Load Data\n",
    "\n",
    "For this notebook, we are going to look at a protein-protein interaction network,\n",
    "and test the hypothesis that this network was _not_ generated by the data generating process\n",
    "described by an Erdos-Renyi graph.\n",
    "\n",
    "Let's load a [protein-protein interaction network dataset](http://konect.uni-koblenz.de/networks/moreno_propro).\n",
    "\n",
    "> This undirected network contains protein interactions contained in yeast.\n",
    "> Research showed that proteins with a high degree\n",
    "> were more important for the surivial of the yeast than others.\n",
    "> A node represents a protein and an edge represents a metabolic interaction between two proteins. \n",
    "> The network contains loops."
   ]
  },
  {
   "cell_type": "code",
   "execution_count": null,
   "metadata": {},
   "outputs": [],
   "source": [
    "from nams import load_data as cf\n",
    "\n",
    "G = cf.load_propro_network()"
   ]
  },
  {
   "cell_type": "markdown",
   "metadata": {},
   "source": [
    "As is always the case, let's make sure we know some basic stats of the graph."
   ]
  },
  {
   "cell_type": "code",
   "execution_count": null,
   "metadata": {},
   "outputs": [],
   "source": [
    "len(G.nodes())"
   ]
  },
  {
   "cell_type": "code",
   "execution_count": null,
   "metadata": {},
   "outputs": [],
   "source": [
    "len(G.edges())"
   ]
  },
  {
   "cell_type": "markdown",
   "metadata": {},
   "source": [
    "Let's also examine the degree distribution of the graph."
   ]
  },
  {
   "cell_type": "code",
   "execution_count": null,
   "metadata": {},
   "outputs": [],
   "source": [
    "x, y = ecdf(pd.Series(dict(nx.degree(G))))\n",
    "plt.scatter(x, y)"
   ]
  },
  {
   "cell_type": "markdown",
   "metadata": {},
   "source": [
    "## Inferring Graph Generating Model\n",
    "\n",
    "Given a graph dataset, how do we identify which data generating model provides the best fit?\n",
    "\n",
    "One way to do this is to compare characteristics of a graph generating model against the characteristics of the graph.\n",
    "The logic here is that if we have a good graph generating model for the data,\n",
    "we should, in theory, observe the observed graph's characteristics\n",
    "in the graphs generated by the graph generating model."
   ]
  },
  {
   "cell_type": "markdown",
   "metadata": {},
   "source": [
    "### Comparison of degree distribution\n",
    "\n",
    "Let's compare the degree distribution between the data, a few Erdos-Renyi graphs, and a few Barabasi-Albert graphs."
   ]
  },
  {
   "cell_type": "markdown",
   "metadata": {},
   "source": [
    "### Comparison with Barabasi-Albert graphs"
   ]
  },
  {
   "cell_type": "code",
   "execution_count": null,
   "metadata": {},
   "outputs": [],
   "source": [
    "from ipywidgets import interact, IntSlider\n",
    "\n",
    "m = IntSlider(value=2, min=1, max=10)\n",
    "\n",
    "@interact(m=m)\n",
    "def compare_barabasi_albert_graph(m):\n",
    "    fig, ax = plt.subplots()\n",
    "    G_ba = nx.barabasi_albert_graph(n=len(G.nodes()), m=m)\n",
    "    x, y = ecdf(pd.Series(dict(nx.degree(G_ba))))\n",
    "    ax.scatter(x, y, label=\"Barabasi-Albert Graph\")\n",
    "    \n",
    "    x, y = ecdf(pd.Series(dict(nx.degree(G))))\n",
    "    ax.scatter(x, y, label=\"Protein Interaction Network\")\n",
    "    ax.legend()"
   ]
  },
  {
   "cell_type": "markdown",
   "metadata": {},
   "source": [
    "### Comparison with Erdos-Renyi graphs"
   ]
  },
  {
   "cell_type": "code",
   "execution_count": null,
   "metadata": {},
   "outputs": [],
   "source": [
    "from ipywidgets import FloatSlider\n",
    "p = FloatSlider(value=0.6, min=0, max=0.1, step=0.001)\n",
    "\n",
    "@interact(p=p)\n",
    "def compare_erdos_renyi_graph(p):\n",
    "    fig, ax = plt.subplots()\n",
    "    G_er = nx.erdos_renyi_graph(n=len(G.nodes()), p=p)\n",
    "    x, y = ecdf(pd.Series(dict(nx.degree(G_er))))\n",
    "    ax.scatter(x, y, label=\"Erdos-Renyi Graph\")\n",
    "    \n",
    "    x, y = ecdf(pd.Series(dict(nx.degree(G))))\n",
    "    ax.scatter(x, y, label=\"Protein Interaction Network\")\n",
    "    ax.legend()\n",
    "    ax.set_title(f\"p={p}\")"
   ]
  },
  {
   "cell_type": "markdown",
   "metadata": {},
   "source": [
    "Given the degree distribution only, which model do you think better describes the generation of a protein-protein interaction network?"
   ]
  },
  {
   "cell_type": "markdown",
   "metadata": {},
   "source": [
    "## Quantitative Model Comparison\n",
    "\n",
    "Each time we plug in a value of $m$ for the Barabasi-Albert graph model, we are using one of many possible Barabasi-Albert graph models, each with a different $m$.\n",
    "Similarly, each time we choose a different $p$ for the Erdos-Renyi model, we are using one of many possible Erdos-Renyi graph models, each with a different $p$.\n",
    "\n",
    "To quantitatively compare degree distributions, we can use the [Wasserstein distance][wasd] between the data.\n",
    "Let's see how to implement this.\n",
    "\n",
    "[wasd]: https://docs.scipy.org/doc/scipy/reference/generated/scipy.stats.wasserstein_distance.html"
   ]
  },
  {
   "cell_type": "code",
   "execution_count": null,
   "metadata": {},
   "outputs": [],
   "source": [
    "from scipy.stats import wasserstein_distance\n",
    "\n",
    "def erdos_renyi_degdist(n, p):\n",
    "    \"\"\"Return a Pandas series of degree distribution of an Erdos-Renyi graph.\"\"\"\n",
    "    G = nx.erdos_renyi_graph(n=n, p=p)\n",
    "    return pd.Series(dict(nx.degree(G)))\n",
    "\n",
    "def barabasi_albert_degdist(n, m):\n",
    "    \"\"\"Return a Pandas series of degree distribution of an Barabasi-Albert graph.\"\"\"\n",
    "    G = nx.barabasi_albert_graph(n=n, m=m)\n",
    "    return pd.Series(dict(nx.degree(G)))"
   ]
  },
  {
   "cell_type": "code",
   "execution_count": null,
   "metadata": {},
   "outputs": [],
   "source": [
    "deg = pd.Series(dict(nx.degree(G)))\n",
    "\n",
    "er_deg = erdos_renyi_degdist(n=len(G.nodes()), p=0.001)\n",
    "ba_deg = barabasi_albert_degdist(n=len(G.nodes()), m=1)\n",
    "wasserstein_distance(deg, er_deg), wasserstein_distance(deg, ba_deg)"
   ]
  },
  {
   "cell_type": "markdown",
   "metadata": {},
   "source": [
    "Notice that because the graphs are instantiated in a non-deterministic fashion, re-running the cell above will give you different values for each new graph generated.\n",
    "\n",
    "Let's now plot the wasserstein distance to our graph data for the two particular Erdos-Renyi and Barabasi-Albert graph models shown above."
   ]
  },
  {
   "cell_type": "code",
   "execution_count": null,
   "metadata": {},
   "outputs": [],
   "source": [
    "import matplotlib.pyplot as plt\n",
    "from tqdm.autonotebook import tqdm\n",
    "\n",
    "er_dist = []\n",
    "ba_dist = []\n",
    "for _ in tqdm(range(100)):\n",
    "    er_deg = erdos_renyi_degdist(n=len(G.nodes()), p=0.001)\n",
    "    er_dist.append(wasserstein_distance(deg, er_deg))\n",
    "    \n",
    "\n",
    "    ba_deg = barabasi_albert_degdist(n=len(G.nodes()), m=1)\n",
    "    ba_dist.append(wasserstein_distance(deg, ba_deg))\n",
    "\n",
    "# er_degs = [erdos_renyi_degdist(n=len(G.nodes()), p=0.001) for _ in range(100)]"
   ]
  },
  {
   "cell_type": "code",
   "execution_count": null,
   "metadata": {},
   "outputs": [],
   "source": [
    "import seaborn as sns\n",
    "import janitor\n",
    "\n",
    "\n",
    "data = (\n",
    "    pd.DataFrame(\n",
    "        {\n",
    "            \"Erdos-Renyi\": er_dist,\n",
    "            \"Barabasi-Albert\": ba_dist,\n",
    "        }\n",
    "    )\n",
    "    .melt(value_vars=[\"Erdos-Renyi\", \"Barabasi-Albert\"])\n",
    "    .rename_columns({\"variable\": \"Graph Model\", \"value\": \"Wasserstein Distance\"})\n",
    ")\n",
    "sns.swarmplot(data=data, x=\"Graph Model\", y=\"Wasserstein Distance\")"
   ]
  },
  {
   "cell_type": "markdown",
   "metadata": {},
   "source": [
    "From this, we might conclude that the Barabasi-Albert graph with $m=1$ has the better fit to the protein-protein interaction network graph."
   ]
  },
  {
   "cell_type": "markdown",
   "metadata": {},
   "source": [
    "## Interpretation\n",
    "\n",
    "That statement, accurate as it might be, still does not connect the dots to _biology_.\n",
    "\n",
    "Let's think about the generative model for this graph.\n",
    "The Barabasi-Albert graph gives us a model for \"rich gets richer\".\n",
    "Given the current state of the graph,\n",
    "if we want to add a new edge, we first pick a node with probability proportional to\n",
    "the number of edges it already has.\n",
    "Then, we pick another node with probability proportional to the number of edges that it has too.\n",
    "Finally, we add an edge there.\n",
    "This has the effect of \"enriching\" nodes that have a large number of edges with more edges.\n",
    "\n",
    "How might this connect to biology?\n",
    "\n",
    "We can't necessarily provide a concrete answer, but this model might help raise new hypotheses.\n",
    "\n",
    "For example, if protein-protein interactions of the \"binding\" kind\n",
    "are driven by subdomains, then proteins that acquire a domain through recombination\n",
    "may end up being able to bind to everything else that the domain was able to.\n",
    "In this fashion, proteins with that particular binding domain\n",
    "gain new edges more readily.\n",
    "\n",
    "Testing these hypotheses would be a totally different matter, and at this point,\n",
    "I submit the above hypothesis with a large amount of salt thrown over my shoulder.\n",
    "In other words, the hypothesized mechanism could be completely wrong.\n",
    "However, I hope that this example illustrated that\n",
    "the usage of a \"graph generative model\" can help us narrow down hypotheses about the observed world."
   ]
  }
 ],
 "metadata": {
  "kernelspec": {
   "display_name": "nams",
   "language": "python",
   "name": "nams"
  },
  "language_info": {
   "codemirror_mode": {
    "name": "ipython",
    "version": 3
   },
   "file_extension": ".py",
   "mimetype": "text/x-python",
   "name": "python",
   "nbconvert_exporter": "python",
   "pygments_lexer": "ipython3",
   "version": "3.7.7"
  }
 },
 "nbformat": 4,
 "nbformat_minor": 4
}
