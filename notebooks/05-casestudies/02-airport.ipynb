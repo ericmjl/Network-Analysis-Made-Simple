{
 "cells": [
  {
   "cell_type": "code",
   "execution_count": null,
   "metadata": {},
   "outputs": [],
   "source": [
    "%load_ext autoreload\n",
    "%autoreload 2\n",
    "%matplotlib inline\n",
    "%config InlineBackend.figure_format = 'retina'\n",
    "import networkx as nx\n",
    "import pandas as pd\n",
    "import matplotlib.pyplot as plt\n",
    "import numpy as np"
   ]
  },
  {
   "cell_type": "markdown",
   "metadata": {},
   "source": [
    "## Introduction\n",
    "\n",
    "In this chapter, we will analyse the evolution of US Airport Network between 1990 and 2015. This dataset contains data for 25 years[1995-2015] of flights between various US airports and metadata about these routes. Taken from Bureau of Transportation Statistics, United States Department of Transportation.\n",
    "\n",
    "Let's see what can we make out of this!"
   ]
  },
  {
   "cell_type": "code",
   "execution_count": null,
   "metadata": {},
   "outputs": [],
   "source": [
    "from nams import load_data as cf\n",
    "pass_air_data = cf.load_airports_data()"
   ]
  },
  {
   "cell_type": "markdown",
   "metadata": {},
   "source": [
    "In the `pass_air_data` dataframe we have the information of number of people that fly every year on a particular route on the list of airlines that fly that route."
   ]
  },
  {
   "cell_type": "code",
   "execution_count": null,
   "metadata": {},
   "outputs": [],
   "source": [
    "pass_air_data.head()"
   ]
  },
  {
   "cell_type": "markdown",
   "metadata": {},
   "source": [
    "Every row in this dataset is a unique route between 2 airports in United States territory in a particular year. Let's see how many people flew from New York JFK to Austin in 2006.\n",
    "\n",
    "NOTE: This will be a fun chapter if you are an aviation geek and like guessing airport IATA codes."
   ]
  },
  {
   "cell_type": "code",
   "execution_count": null,
   "metadata": {},
   "outputs": [],
   "source": [
    "jfk_aus_2006 = (pass_air_data\n",
    " .query('YEAR == 2006')\n",
    " .query(\"ORIGIN == 'JFK' and DEST == 'AUS'\"))\n",
    "\n",
    "jfk_aus_2006.head()"
   ]
  },
  {
   "cell_type": "markdown",
   "metadata": {},
   "source": [
    "From the above pandas query we see that according to this dataset 105290 passengers travelled from JFK to AUS in the year 2006.\n",
    "\n",
    "But how does this dataset translate to an applied network analysis problem? In the previous chapter we created different graph objects for every book. Let's create a graph object which encompasses all the edges.\n",
    "\n",
    "NetworkX provides us with Multi(Di)Graphs to model networks with multiple edges between two nodes.\n",
    "\n",
    "In this case every row in the dataframe represents a directed edge between two airports, common sense suggests that if there is a flight from airport A to airport B there should definitely be a flight from airport B to airport A, i.e direction of the edge shouldn't matter. But in this dataset we have data for individual directions (A -> B and B -> A) so we create a MultiDiGraph."
   ]
  },
  {
   "cell_type": "code",
   "execution_count": null,
   "metadata": {},
   "outputs": [],
   "source": [
    "passenger_graph = nx.from_pandas_edgelist(\n",
    "    pass_air_data, source='ORIGIN',\n",
    "    target='DEST', edge_key='YEAR',\n",
    "    edge_attr=['PASSENGERS', 'UNIQUE_CARRIER_NAME'],\n",
    "    create_using=nx.MultiDiGraph())"
   ]
  },
  {
   "cell_type": "markdown",
   "metadata": {},
   "source": [
    "We have created a MultiDiGraph object `passenger_graph` which contains all the information from the dataframe `pass_air_data`. `ORIGIN` and `DEST` represent the column names in the dataframe `pass_air_data` used to construct the edge. As this is a `MultiDiGraph` we can also give a name/key to the multiple edges between two nodes and `edge_key` is used to represent that name and in this graph `YEAR` is used to distinguish between multiple edges between two nodes. `PASSENGERS` and `UNIQUE_CARRIER_NAME` are added as edge attributes which can be accessed using the nodes and the key form the MultiDiGraph object.\n",
    "\n",
    "Let's check if can access the same information (the 2006 route between JFK and AUS) using our `passenger_graph`.\n",
    "\n",
    "To check an edge between two nodes in a Graph we can use the syntax `GraphObject[source][target]` and further specify the edge attribute using `GraphObject[source][target][attribute]`.\n",
    "\n",
    "<!-- Let's see if `passenger_graph['JFK']['AUS'][2006]` works. -->"
   ]
  },
  {
   "cell_type": "code",
   "execution_count": null,
   "metadata": {},
   "outputs": [],
   "source": [
    "passenger_graph['JFK']['AUS'][2006]"
   ]
  },
  {
   "cell_type": "markdown",
   "metadata": {},
   "source": [
    "Now let's use our new constructed passenger graph to look at the evolution of passenger load over 25 years."
   ]
  },
  {
   "cell_type": "code",
   "execution_count": null,
   "metadata": {},
   "outputs": [],
   "source": [
    "# Route betweeen New York-JFK and SFO\n",
    "\n",
    "values = [(year, attr['PASSENGERS'])\n",
    "          for year, attr in \n",
    "          passenger_graph['JFK']['SFO'].items()]\n",
    "x, y = zip(*values)\n",
    "plt.plot(x, y)\n",
    "plt.show()"
   ]
  },
  {
   "cell_type": "markdown",
   "metadata": {},
   "source": [
    "We see some usual trends all across the datasets like steep drops in 2001 (after 9/11) and 2008 (recession)."
   ]
  },
  {
   "cell_type": "code",
   "execution_count": null,
   "metadata": {},
   "outputs": [],
   "source": [
    "# Route betweeen SFO and Chicago-ORD\n",
    "\n",
    "values = [(year, attr['PASSENGERS'])\n",
    "          for year, attr in \n",
    "          passenger_graph['SFO']['ORD'].items()]\n",
    "x, y = zip(*values)\n",
    "plt.plot(x, y)\n",
    "plt.show()"
   ]
  },
  {
   "cell_type": "markdown",
   "metadata": {},
   "source": [
    "To find the overall trend, we can use our `pass_air_data` dataframe to calculate total passengers flown in a year."
   ]
  },
  {
   "cell_type": "code",
   "execution_count": null,
   "metadata": {},
   "outputs": [],
   "source": [
    "pass_air_data.groupby(\n",
    "    ['YEAR']).sum()['PASSENGERS'].plot()\n",
    "plt.show()"
   ]
  },
  {
   "cell_type": "markdown",
   "metadata": {},
   "source": [
    "### Exercise\n",
    "\n",
    "Find the busiest route in 1990 and in 2015 according to number of passengers, and plot the time series of number of passengers on these routes.\n",
    "\n",
    "You can use the DataFrame instead of working with the network. It will be faster :)"
   ]
  },
  {
   "cell_type": "code",
   "execution_count": null,
   "metadata": {},
   "outputs": [],
   "source": [
    "from nams.solutions.airport import busiest_route, plot_time_series"
   ]
  },
  {
   "cell_type": "code",
   "execution_count": null,
   "metadata": {},
   "outputs": [],
   "source": [
    "busiest_route(pass_air_data, 1990).head()"
   ]
  },
  {
   "cell_type": "code",
   "execution_count": null,
   "metadata": {},
   "outputs": [],
   "source": [
    "plot_time_series(pass_air_data, 'LAX', 'HNL')"
   ]
  },
  {
   "cell_type": "code",
   "execution_count": null,
   "metadata": {},
   "outputs": [],
   "source": [
    "busiest_route(pass_air_data, 2015).head()"
   ]
  },
  {
   "cell_type": "code",
   "execution_count": null,
   "metadata": {},
   "outputs": [],
   "source": [
    "plot_time_series(pass_air_data, 'LAX', 'SFO')"
   ]
  },
  {
   "cell_type": "markdown",
   "metadata": {},
   "source": [
    "Before moving to the next part of the chapter let's create a method to extract edges from `passenger_graph` for a particular year so we can better analyse the data on a granular scale."
   ]
  },
  {
   "cell_type": "code",
   "execution_count": null,
   "metadata": {},
   "outputs": [],
   "source": [
    "def year_network(G, year):\n",
    "    \"\"\" Extract edges for a particular year from\n",
    "        a MultiGraph. The edge is also populated with\n",
    "        two attributes, weight and weight_inv where\n",
    "        weight is the number of passengers and\n",
    "        weight_inv the inverse of it.\n",
    "    \"\"\"\n",
    "    year_network = nx.DiGraph()\n",
    "    for edge in G.edges:\n",
    "        source, target, edge_year = edge\n",
    "        if edge_year == year:\n",
    "            attr = G[source][target][edge_year]\n",
    "            year_network.add_edge(\n",
    "                source, target,\n",
    "                weight=attr['PASSENGERS'],\n",
    "                weight_inv=1/(attr['PASSENGERS']\n",
    "                if attr['PASSENGERS'] != 0.0 else 1),\n",
    "                airlines=attr['UNIQUE_CARRIER_NAME'])\n",
    "    return year_network"
   ]
  },
  {
   "cell_type": "code",
   "execution_count": null,
   "metadata": {},
   "outputs": [],
   "source": [
    "pass_2015_network = year_network(passenger_graph, 2015)"
   ]
  },
  {
   "cell_type": "code",
   "execution_count": null,
   "metadata": {},
   "outputs": [],
   "source": [
    "# Extracted a Directed Graph from the Multi Directed Graph\n",
    "# Number of nodes = airports\n",
    "# Number of edges = routes\n",
    "\n",
    "print(nx.info(pass_2015_network))"
   ]
  },
  {
   "cell_type": "markdown",
   "metadata": {},
   "source": [
    "## Visualise the airports"
   ]
  },
  {
   "cell_type": "code",
   "execution_count": null,
   "metadata": {},
   "outputs": [],
   "source": [
    "# Loadin the GPS coordinates of all the airports\n",
    "from nams import load_data as cf\n",
    "lat_long = cf.load_airports_GPS_data()"
   ]
  },
  {
   "cell_type": "code",
   "execution_count": null,
   "metadata": {},
   "outputs": [],
   "source": [
    "# Dictionary to store position corrdinates from the dataset\n",
    "pos_dict = {}\n",
    "find_airports = lat_long[lat_long[1].isin(\n",
    "    list(pass_2015_network))].iterrows()\n",
    "\n",
    "for airport in find_airports:\n",
    "    pos_dict[airport[1][1]] = (\n",
    "        airport[1][15], airport[1][14]) "
   ]
  },
  {
   "cell_type": "code",
   "execution_count": null,
   "metadata": {},
   "outputs": [],
   "source": [
    "# NOTE: This GPS dataset doesn't contain GPS coordinates\n",
    "# for all the airports in our network\n",
    "len(pos_dict)"
   ]
  },
  {
   "cell_type": "markdown",
   "metadata": {},
   "source": [
    "Let's first plot only the nodes, i.e airports. Places like Guam, US Virgin Islands are also included in this dataset as they are treated as domestic airports in this dataset."
   ]
  },
  {
   "cell_type": "code",
   "execution_count": null,
   "metadata": {},
   "outputs": [],
   "source": [
    "plt.figure(figsize=(20, 9))\n",
    "# We take a subgraph view as we don't\n",
    "# have the GPS coordinates for all the airports\n",
    "G = nx.subgraph(pass_2015_network,\n",
    "                pos_dict.keys())\n",
    "nx.draw_networkx_nodes(G, pos=pos_dict,\n",
    "                       node_size=10,\n",
    "                       alpha=0.6,\n",
    "                       node_color='r')\n",
    "plt.show()"
   ]
  },
  {
   "cell_type": "markdown",
   "metadata": {},
   "source": [
    "We can get the above plot also be just using a scatter plot of the GPS coordinates\n",
    "\n",
    "``` python\n",
    "x = [GPS[0] for GPS in pos_dict.values()]\n",
    "y = [GPS[1] for GPS in pos_dict.values()]\n",
    "plt.scatter(x, y)\n",
    "```"
   ]
  },
  {
   "cell_type": "markdown",
   "metadata": {},
   "source": [
    "Let's also plot the routes(edges)."
   ]
  },
  {
   "cell_type": "code",
   "execution_count": null,
   "metadata": {},
   "outputs": [],
   "source": [
    "plt.figure(figsize=(20, 9))\n",
    "# We take a subgraph view as we don't\n",
    "# have the GPS coordinates for all the airports\n",
    "G = nx.subgraph(pass_2015_network,\n",
    "                pos_dict.keys())\n",
    "nx.draw_networkx_nodes(G, pos=pos_dict,\n",
    "                       node_size=10,\n",
    "                       alpha=0.6,\n",
    "                       node_color='r')\n",
    "nx.draw_networkx_edges(G, pos=pos_dict,\n",
    "                       width=0.1, arrows=False)\n",
    "plt.show()"
   ]
  },
  {
   "cell_type": "markdown",
   "metadata": {},
   "source": [
    "Before we proceed further, let's take a detour to briefly discuss directed networks and PageRank."
   ]
  },
  {
   "cell_type": "markdown",
   "metadata": {},
   "source": [
    "## Directed Graphs and PageRank\n",
    "\n",
    "The figure below explains the basic idea behind the PageRank algorithm. The \"importance\" of the node depends on the incoming links to the node, i.e if an \"important\" node A points towards a node B it will increase the PageRank score of node B, and this is run iteratively. In the given figure, even though node C is only connected to one node it is considered \"important\" as the connection is to node B, which is an \"important\" node.\n",
    "\n",
    "![](images/pagerank.png)\n",
    "<!-- <img src='images/pagerank.png' alt='pagerank' width='500'/> -->\n",
    "\n",
    "Source: Wikipedia\n",
    "\n",
    "To better understand this let's work through an example."
   ]
  },
  {
   "cell_type": "code",
   "execution_count": null,
   "metadata": {},
   "outputs": [],
   "source": [
    "# Create an empty directed graph object\n",
    "G = nx.DiGraph()\n",
    "# Add an edge from 1 to 2 with weight 4\n",
    "G.add_edge(1, 2, weight=4)"
   ]
  },
  {
   "cell_type": "code",
   "execution_count": null,
   "metadata": {},
   "outputs": [],
   "source": [
    "print(G.edges(data=True))"
   ]
  },
  {
   "cell_type": "code",
   "execution_count": null,
   "metadata": {},
   "outputs": [],
   "source": [
    "# Access edge from 1 to 2\n",
    "G[1][2]"
   ]
  },
  {
   "cell_type": "markdown",
   "metadata": {},
   "source": [
    "What happens when we try to access the edge from 2 to 1?\n",
    "\n",
    "``` python\n",
    "G[2][1]\n",
    "\n",
    "---------------------------------------------------------------------------\n",
    "KeyError                                  Traceback (most recent call last)\n",
    "<ipython-input-137-d6b8db3142ef> in <module>\n",
    "      1 # Access edge from 2 to 1\n",
    "----> 2 G[2][1]\n",
    "\n",
    "~/miniconda3/envs/nams/lib/python3.7/site-packages/networkx/classes/coreviews.py in __getitem__(self, key)\n",
    "     52 \n",
    "     53     def __getitem__(self, key):\n",
    "---> 54         return self._atlas[key]\n",
    "     55 \n",
    "     56     def copy(self):\n",
    "\n",
    "KeyError: 1\n",
    "```"
   ]
  },
  {
   "cell_type": "markdown",
   "metadata": {},
   "source": [
    "As expected we get an error when we try to access the edge between 2 to 1 as this is a directed graph."
   ]
  },
  {
   "cell_type": "code",
   "execution_count": null,
   "metadata": {},
   "outputs": [],
   "source": [
    "G.add_edges_from([(1, 2), (3, 2),\n",
    "                  (4, 2), (5, 2),\n",
    "                  (6, 2), (7, 2)])\n",
    "nx.draw_spring(G, with_labels=True)"
   ]
  },
  {
   "cell_type": "markdown",
   "metadata": {},
   "source": [
    "Just by looking at the example above, we can conclude that node 2 should have the highest PageRank score as all the nodes are pointing towards it.\n",
    "\n",
    "This is confirmed by calculating the PageRank of this graph."
   ]
  },
  {
   "cell_type": "code",
   "execution_count": null,
   "metadata": {},
   "outputs": [],
   "source": [
    "nx.pagerank(G)"
   ]
  },
  {
   "cell_type": "markdown",
   "metadata": {},
   "source": [
    "What happens when we add an edge from node 5 to node 6."
   ]
  },
  {
   "cell_type": "code",
   "execution_count": null,
   "metadata": {},
   "outputs": [],
   "source": [
    "G.add_edge(5, 6)\n",
    "nx.draw_spring(G, with_labels=True)"
   ]
  },
  {
   "cell_type": "code",
   "execution_count": null,
   "metadata": {},
   "outputs": [],
   "source": [
    "nx.pagerank(G)"
   ]
  },
  {
   "cell_type": "markdown",
   "metadata": {},
   "source": [
    "As expected there was some change in the scores (an increase for 6) but the overall trend stays the same, with node 2 leading the pack."
   ]
  },
  {
   "cell_type": "code",
   "execution_count": null,
   "metadata": {},
   "outputs": [],
   "source": [
    "G.add_edge(2, 8)\n",
    "nx.draw_circular(G, with_labels=True)"
   ]
  },
  {
   "cell_type": "markdown",
   "metadata": {},
   "source": [
    "Now we have an added an edge from 2 to a new node 8. As node 2 already has a high PageRank score, this should be passed on node 8. Let's see how much difference this can make."
   ]
  },
  {
   "cell_type": "code",
   "execution_count": null,
   "metadata": {},
   "outputs": [],
   "source": [
    "nx.pagerank(G)"
   ]
  },
  {
   "cell_type": "markdown",
   "metadata": {},
   "source": [
    "In this example, node 8 is now even more \"important\" than node 2 even though node 8 has only incoming connection.\n",
    "\n",
    "Let's move back to Airports and use this knowledge to analyse the network."
   ]
  },
  {
   "cell_type": "markdown",
   "metadata": {},
   "source": [
    "## Importants Hubs in the Airport Network\n",
    "\n",
    "So let's have a look at the important nodes in this network, i.e. important airports in this network. We'll use centrality measures like pagerank, betweenness centrality and degree centrality which we gone through in this book."
   ]
  },
  {
   "cell_type": "markdown",
   "metadata": {},
   "source": [
    "Let's try to calculate the PageRank of `passenger_graph`.\n",
    "\n",
    "``` python\n",
    "nx.pagerank(passenger_graph)\n",
    "\n",
    "---------------------------------------------------------------------------\n",
    "NetworkXNotImplemented                    Traceback (most recent call last)\n",
    "<ipython-input-144-15a6f513bf9b> in <module>\n",
    "      1 # Let's try to calulate the PageRank measures of this graph.\n",
    "----> 2 nx.pagerank(passenger_graph)\n",
    "\n",
    "<decorator-gen-435> in pagerank(G, alpha, personalization, max_iter, tol, nstart, weight, dangling)\n",
    "\n",
    "~/miniconda3/envs/nams/lib/python3.7/site-packages/networkx/utils/decorators.py in _not_implemented_for(not_implement_for_func, *args, **kwargs)\n",
    "     78         if match:\n",
    "     79             msg = 'not implemented for %s type' % ' '.join(graph_types)\n",
    "---> 80             raise nx.NetworkXNotImplemented(msg)\n",
    "     81         else:\n",
    "     82             return not_implement_for_func(*args, **kwargs)\n",
    "\n",
    "NetworkXNotImplemented: not implemented for multigraph type\n",
    "```"
   ]
  },
  {
   "cell_type": "markdown",
   "metadata": {},
   "source": [
    "As PageRank isn't defined for a MultiGraph in NetworkX we need to use our extracted yearly sub networks."
   ]
  },
  {
   "cell_type": "code",
   "execution_count": null,
   "metadata": {},
   "outputs": [],
   "source": [
    "# As pagerank will take weighted measure\n",
    "# by default we pass in None to make this\n",
    "# calculation for unweighted network\n",
    "PR_2015_scores = nx.pagerank(\n",
    "    pass_2015_network, weight=None)"
   ]
  },
  {
   "cell_type": "code",
   "execution_count": null,
   "metadata": {},
   "outputs": [],
   "source": [
    "# Let's check the PageRank score for JFK\n",
    "PR_2015_scores['JFK']"
   ]
  },
  {
   "cell_type": "code",
   "execution_count": null,
   "metadata": {},
   "outputs": [],
   "source": [
    "# top 10 airports according to unweighted PageRank\n",
    "top_10_pr = sorted(PR_2015_scores.items(),\n",
    "                   key=lambda x:x[1],\n",
    "                   reverse=True)[:10]"
   ]
  },
  {
   "cell_type": "code",
   "execution_count": null,
   "metadata": {},
   "outputs": [],
   "source": [
    "# top 10 airports according to unweighted betweenness centrality\n",
    "top_10_bc = sorted(\n",
    "    nx.betweenness_centrality(pass_2015_network,\n",
    "    weight=None).items(), key=lambda x:x[1],\n",
    "    reverse=True)[0:10]"
   ]
  },
  {
   "cell_type": "code",
   "execution_count": null,
   "metadata": {},
   "outputs": [],
   "source": [
    "# top 10 airports according to degree centrality\n",
    "top_10_dc = sorted(\n",
    "    nx.degree_centrality(pass_2015_network).items(),\n",
    "    key=lambda x:x[1], reverse=True)[0:10]"
   ]
  },
  {
   "cell_type": "markdown",
   "metadata": {},
   "source": [
    "Before looking at the results do think about what we just calculated and try to guess which airports should come out at the top and be ready to be surprised :D"
   ]
  },
  {
   "cell_type": "code",
   "execution_count": null,
   "metadata": {},
   "outputs": [],
   "source": [
    "# PageRank\n",
    "top_10_pr"
   ]
  },
  {
   "cell_type": "code",
   "execution_count": null,
   "metadata": {},
   "outputs": [],
   "source": [
    "# Betweenness Centrality\n",
    "top_10_bc"
   ]
  },
  {
   "cell_type": "code",
   "execution_count": null,
   "metadata": {},
   "outputs": [],
   "source": [
    "# Degree Centrality\n",
    "top_10_dc"
   ]
  },
  {
   "cell_type": "markdown",
   "metadata": {},
   "source": [
    "The Degree Centrality results do make sense at first glance, ATL is Atlanta, ORD is Chicago, these are defintely airports one would expect to be at the top of a list which calculates \"importance\" of an airport. But when we look at PageRank and Betweenness Centrality we have an unexpected airport 'ANC'. Do think about measures like PageRank and Betweenness Centrality and what they calculate. Do note that currently we have used the core structure of the network, no other metadata like number of passengers. These are calculations on the unweighted network.\n",
    "\n",
    "'ANC' is the airport code of Anchorage airport, a place in Alaska, and according to pagerank and betweenness centrality it is the most important airport in this network. Isn't that weird? Thoughts?\n",
    "\n",
    "Looks like 'ANC' is essential to the core structure of the network, as it is the main airport connecting Alaska with other parts of US. This explains the high Betweenness Centrality score and there are flights from other major airports to 'ANC' which explains the high PageRank score.\n",
    "\n",
    "Related blog post: https://toreopsahl.com/2011/08/12/why-anchorage-is-not-that-important-binary-ties-and-sample-selection/\n",
    "\n",
    "Let's look at weighted version, i.e taking into account the number of people flying to these places."
   ]
  },
  {
   "cell_type": "code",
   "execution_count": null,
   "metadata": {},
   "outputs": [],
   "source": [
    "# Recall from the last chapter we use weight_inv\n",
    "# while calculating betweenness centrality\n",
    "sorted(nx.betweenness_centrality(\n",
    "    pass_2015_network, weight='weight_inv').items(),\n",
    "    key=lambda x:x[1], reverse=True)[0:10]"
   ]
  },
  {
   "cell_type": "code",
   "execution_count": null,
   "metadata": {},
   "outputs": [],
   "source": [
    "sorted(nx.pagerank(\n",
    "    pass_2015_network, weight='weight').items(),\n",
    "    key=lambda x:x[1], reverse=True)[0:10]"
   ]
  },
  {
   "cell_type": "markdown",
   "metadata": {},
   "source": [
    "When we adjust for number of passengers we see that we have a reshuffle in the \"importance\" rankings, and they do make a bit more sense now. According to weighted PageRank, Atlanta, Chicago, Seattle the top 3 airports while Anchorage is at 4th rank now.\n",
    "\n",
    "To get an even better picture of this we should do the analyse with more metadata about the routes not just the number of passengers."
   ]
  },
  {
   "cell_type": "markdown",
   "metadata": {},
   "source": [
    "## How reachable is this network?\n",
    "\n",
    "Let's assume you are the Head of Data Science of an airline and your job is to make your airline network as \"connected\" as possible.\n",
    "\n",
    "To translate this problem statement to network science, we calculate the average shortest path length of this network, it gives us an idea about the number of jumps we need to make around the network to go from one airport to any other airport in this network on average."
   ]
  },
  {
   "cell_type": "markdown",
   "metadata": {},
   "source": [
    "We can use the inbuilt networkx method `average_shortest_path_length` to find the average shortest path length of a network.\n",
    "\n",
    "```python\n",
    "nx.average_shortest_path_length(pass_2015_network)\n",
    "\n",
    "---------------------------------------------------------------------------\n",
    "NetworkXError                             Traceback (most recent call last)\n",
    "<ipython-input-157-acfe9bf3572a> in <module>\n",
    "----> 1 nx.average_shortest_path_length(pass_2015_network)\n",
    "\n",
    "~/miniconda3/envs/nams/lib/python3.7/site-packages/networkx/algorithms/shortest_paths/generic.py in average_shortest_path_length(G, weight, method)\n",
    "    401     # Shortest path length is undefined if the graph is disconnected.\n",
    "    402     if G.is_directed() and not nx.is_weakly_connected(G):\n",
    "--> 403         raise nx.NetworkXError(\"Graph is not weakly connected.\")\n",
    "    404     if not G.is_directed() and not nx.is_connected(G):\n",
    "    405         raise nx.NetworkXError(\"Graph is not connected.\")\n",
    "\n",
    "NetworkXError: Graph is not weakly connected.\n",
    "    \n",
    "```\n"
   ]
  },
  {
   "cell_type": "markdown",
   "metadata": {},
   "source": [
    "Wait, What? This network is not \"connected\" (ignore the term weakly for the moment).\n",
    "That seems weird. It means that there are nodes which aren't reachable from other set of nodes, which isn't good news in especially a transporation network.\n",
    "\n",
    "Let's have a look at these far flung airports which aren't reachable."
   ]
  },
  {
   "cell_type": "code",
   "execution_count": null,
   "metadata": {},
   "outputs": [],
   "source": [
    "components = list(\n",
    "    nx.weakly_connected_components(\n",
    "        pass_2015_network))"
   ]
  },
  {
   "cell_type": "code",
   "execution_count": null,
   "metadata": {},
   "outputs": [],
   "source": [
    "# There are 3 weakly connected components in the network.\n",
    "for c in components:\n",
    "    print(len(c))"
   ]
  },
  {
   "cell_type": "code",
   "execution_count": null,
   "metadata": {},
   "outputs": [],
   "source": [
    "# Let's look at the component with 2 and 1 airports respectively.\n",
    "print(components[1])\n",
    "print(components[2])"
   ]
  },
  {
   "cell_type": "markdown",
   "metadata": {},
   "source": [
    "The airports 'SSB' and 'SPB' are codes for Seaplanes airports and they have flights to each other so it makes sense that they aren't connected to the larger network of airports.\n",
    "\n",
    "The airport is even more weird as it is in a component in itself, i.e there is a flight from AIK to AIK. After investigating further it just seems like an anomaly in this dataset."
   ]
  },
  {
   "cell_type": "code",
   "execution_count": null,
   "metadata": {},
   "outputs": [],
   "source": [
    "AIK_DEST_2015 = pass_air_data[\n",
    "    (pass_air_data['YEAR'] == 2015) &\n",
    "    (pass_air_data['DEST'] == 'AIK')]\n",
    "AIK_DEST_2015.head()"
   ]
  },
  {
   "cell_type": "code",
   "execution_count": null,
   "metadata": {},
   "outputs": [],
   "source": [
    "# Let's get rid of them, we don't like them\n",
    "pass_2015_network.remove_nodes_from(\n",
    "    ['SPB', 'SSB', 'AIK'])"
   ]
  },
  {
   "cell_type": "code",
   "execution_count": null,
   "metadata": {},
   "outputs": [],
   "source": [
    "# Our network is now weakly connected\n",
    "nx.is_weakly_connected(pass_2015_network)"
   ]
  },
  {
   "cell_type": "code",
   "execution_count": null,
   "metadata": {},
   "outputs": [],
   "source": [
    "# It's not strongly connected\n",
    "nx.is_strongly_connected(pass_2015_network)"
   ]
  },
  {
   "cell_type": "markdown",
   "metadata": {},
   "source": [
    "### Strongly vs weakly connected graphs.\n",
    "\n",
    "Let's go through an example to understand weakly and strongly connected directed graphs."
   ]
  },
  {
   "cell_type": "code",
   "execution_count": null,
   "metadata": {},
   "outputs": [],
   "source": [
    "# NOTE: The notion of strongly and weakly exists only for directed graphs.\n",
    "G = nx.DiGraph()\n",
    "\n",
    "# Let's create a cycle directed graph, 1 -> 2 -> 3 -> 1\n",
    "G.add_edge(1, 2)\n",
    "G.add_edge(2, 3)\n",
    "G.add_edge(3, 1)\n",
    "nx.draw(G, with_labels=True)"
   ]
  },
  {
   "cell_type": "markdown",
   "metadata": {},
   "source": [
    "In the above example we can reach any node irrespective of where we start traversing the network, if we start from 2 we can reach 1 via 3. In this network every node is \"reachable\" from one another, i.e the network is strongly connected."
   ]
  },
  {
   "cell_type": "code",
   "execution_count": null,
   "metadata": {},
   "outputs": [],
   "source": [
    "nx.is_strongly_connected(G)"
   ]
  },
  {
   "cell_type": "code",
   "execution_count": null,
   "metadata": {},
   "outputs": [],
   "source": [
    "# Let's add a new connection\n",
    "G.add_edge(3, 4)\n",
    "nx.draw(G, with_labels=True)"
   ]
  },
  {
   "cell_type": "markdown",
   "metadata": {},
   "source": [
    "It's evident from the example above that we *can't* traverse the network graph. If we start from node 4 we are stuck at the node, we don't have any way of leaving node 4. This is assuming we strictly follow the direction of edges. In this case the network isn't strongly connected but if we look at the structure and assume the directions of edges don't matter than we can go to any other node in the network even if we start from node 4.\n",
    "\n",
    "In the case an undirected copy of directed network is connected we call the directed network as weakly connected."
   ]
  },
  {
   "cell_type": "code",
   "execution_count": null,
   "metadata": {},
   "outputs": [],
   "source": [
    "nx.is_strongly_connected(G)"
   ]
  },
  {
   "cell_type": "code",
   "execution_count": null,
   "metadata": {},
   "outputs": [],
   "source": [
    "nx.is_weakly_connected(G)"
   ]
  },
  {
   "cell_type": "markdown",
   "metadata": {},
   "source": [
    "Let's go back to our airport network of 2015.\n",
    "\n",
    "After removing those 3 airports the network is weakly connected."
   ]
  },
  {
   "cell_type": "code",
   "execution_count": null,
   "metadata": {},
   "outputs": [],
   "source": [
    "nx.is_weakly_connected(pass_2015_network)"
   ]
  },
  {
   "cell_type": "code",
   "execution_count": null,
   "metadata": {},
   "outputs": [],
   "source": [
    "nx.is_strongly_connected(pass_2015_network)"
   ]
  },
  {
   "cell_type": "markdown",
   "metadata": {},
   "source": [
    "But our network is still not strongly connected, which essentially means there are airports in the network where you can fly into but not fly back, which doesn't really seem okay"
   ]
  },
  {
   "cell_type": "code",
   "execution_count": null,
   "metadata": {},
   "outputs": [],
   "source": [
    "strongly_connected_components = list(\n",
    "    nx.strongly_connected_components(pass_2015_network))"
   ]
  },
  {
   "cell_type": "code",
   "execution_count": null,
   "metadata": {},
   "outputs": [],
   "source": [
    "# Let's look at one of the examples of a strong connected component\n",
    "strongly_connected_components[0]"
   ]
  },
  {
   "cell_type": "code",
   "execution_count": null,
   "metadata": {},
   "outputs": [],
   "source": [
    "BCE_DEST_2015 = pass_air_data[\n",
    "    (pass_air_data['YEAR'] == 2015) & \n",
    "    (pass_air_data['DEST'] == 'BCE')]\n",
    "BCE_DEST_2015.head()"
   ]
  },
  {
   "cell_type": "code",
   "execution_count": null,
   "metadata": {},
   "outputs": [],
   "source": [
    "BCE_ORI_2015 = pass_air_data[\n",
    "    (pass_air_data['YEAR'] == 2015) & \n",
    "    (pass_air_data['ORIGIN'] == 'BCE')]\n",
    "BCE_ORI_2015.head()"
   ]
  },
  {
   "cell_type": "markdown",
   "metadata": {},
   "source": [
    "As we can see above you can fly into 'BCE' but can't fly out, weird indeed. These airport are small airports with one off schedules flights. For the purposes of our analyses we can ignore such airports."
   ]
  },
  {
   "cell_type": "code",
   "execution_count": null,
   "metadata": {},
   "outputs": [],
   "source": [
    "# Let's find the biggest strongly connected component\n",
    "pass_2015_strong_nodes = max(\n",
    "    strongly_connected_components, key=len)"
   ]
  },
  {
   "cell_type": "code",
   "execution_count": null,
   "metadata": {},
   "outputs": [],
   "source": [
    "# Create a subgraph with the nodes in the\n",
    "# biggest strongly connected component\n",
    "pass_2015_strong = pass_2015_network.subgraph(\n",
    "    nodes=pass_2015_strong_nodes)"
   ]
  },
  {
   "cell_type": "code",
   "execution_count": null,
   "metadata": {},
   "outputs": [],
   "source": [
    "nx.is_strongly_connected(pass_2015_strong)"
   ]
  },
  {
   "cell_type": "markdown",
   "metadata": {},
   "source": [
    "After removing multiple airports we now have a strongly connected airport network. We can now travel from one airport to any other airport in the network."
   ]
  },
  {
   "cell_type": "code",
   "execution_count": null,
   "metadata": {},
   "outputs": [],
   "source": [
    "# We started with 1258 airports\n",
    "len(pass_2015_strong)"
   ]
  },
  {
   "cell_type": "code",
   "execution_count": null,
   "metadata": {},
   "outputs": [],
   "source": [
    "nx.average_shortest_path_length(pass_2015_strong)"
   ]
  },
  {
   "cell_type": "markdown",
   "metadata": {},
   "source": [
    "The 3.17 number above represents the average length between 2 airports in the network which means that it's possible to go from one airport to another in this network under 3 layovers, which sounds nice. A more reachable network is better, not necessearily in terms of revenue for the airline but for social health of the air transport network."
   ]
  },
  {
   "cell_type": "markdown",
   "metadata": {},
   "source": [
    "### Exercise\n",
    "\n",
    "How can we decrease the average shortest path length of this network?\n",
    "\n",
    "Think of an effective way to add new edges to decrease the average shortest path length.\n",
    "Let's see if we can come up with a nice way to do this.\n",
    "\n",
    "The rules are simple:\n",
    "- You can't add more than 2% of the current edges( ~500 edges)"
   ]
  },
  {
   "cell_type": "code",
   "execution_count": null,
   "metadata": {},
   "outputs": [],
   "source": [
    "from nams.solutions.airport import add_opinated_edges"
   ]
  },
  {
   "cell_type": "code",
   "execution_count": null,
   "metadata": {},
   "outputs": [],
   "source": [
    "new_routes_network = add_opinated_edges(pass_2015_strong)"
   ]
  },
  {
   "cell_type": "code",
   "execution_count": null,
   "metadata": {},
   "outputs": [],
   "source": [
    "nx.average_shortest_path_length(new_routes_network)"
   ]
  },
  {
   "cell_type": "markdown",
   "metadata": {},
   "source": [
    "Using an opinionated heuristic we were able to reduce the average shortest path length of the network. Check the solution below to understand the idea behind the heuristic, do try to come up with your own heuristics."
   ]
  },
  {
   "cell_type": "markdown",
   "metadata": {},
   "source": [
    "## Can we find airline specific reachability?\n",
    "\n",
    "Let's see how we can use the airline metadata to calculate the reachability of a specific airline."
   ]
  },
  {
   "cell_type": "code",
   "execution_count": null,
   "metadata": {},
   "outputs": [],
   "source": [
    "# We have access to the airlines that fly the route in the edge attribute airlines\n",
    "pass_2015_network['JFK']['SFO']"
   ]
  },
  {
   "cell_type": "code",
   "execution_count": null,
   "metadata": {},
   "outputs": [],
   "source": [
    "# A helper function to extract the airlines names from the edge attribute\n",
    "def str_to_list(a):\n",
    "    return a[1:-1].split(', ')"
   ]
  },
  {
   "cell_type": "code",
   "execution_count": null,
   "metadata": {},
   "outputs": [],
   "source": [
    "for origin, dest in pass_2015_network.edges():\n",
    "    pass_2015_network[origin][dest]['airlines_list'] = str_to_list(\n",
    "        (pass_2015_network[origin][dest]['airlines']))"
   ]
  },
  {
   "cell_type": "markdown",
   "metadata": {},
   "source": [
    "Let's extract the network of United Airlines from our airport network."
   ]
  },
  {
   "cell_type": "code",
   "execution_count": null,
   "metadata": {},
   "outputs": [],
   "source": [
    "united_network = nx.DiGraph()\n",
    "for origin, dest in pass_2015_network.edges():\n",
    "    if \"'United Air Lines Inc.'\" in pass_2015_network[origin][dest]['airlines_list']:\n",
    "            united_network.add_edge(\n",
    "                origin, dest, \n",
    "                weight=pass_2015_network[origin][dest]['weight'])"
   ]
  },
  {
   "cell_type": "code",
   "execution_count": null,
   "metadata": {},
   "outputs": [],
   "source": [
    "# number of nodes -> airports\n",
    "# number of edges -> routes\n",
    "print(nx.info(united_network))"
   ]
  },
  {
   "cell_type": "code",
   "execution_count": null,
   "metadata": {},
   "outputs": [],
   "source": [
    "# Let's find United Hubs according to PageRank\n",
    "sorted(nx.pagerank(\n",
    "    united_network, weight='weight').items(),\n",
    "       key=lambda x:x[1], reverse=True)[0:5]"
   ]
  },
  {
   "cell_type": "code",
   "execution_count": null,
   "metadata": {},
   "outputs": [],
   "source": [
    "# Let's find United Hubs according to Degree Centrality\n",
    "sorted(nx.degree_centrality(\n",
    "    united_network).items(),\n",
    "       key=lambda x:x[1], reverse=True)[0:5]"
   ]
  },
  {
   "cell_type": "markdown",
   "metadata": {},
   "source": [
    "## Solutions\n",
    "\n",
    "Here are the solutions to the exercises above."
   ]
  },
  {
   "cell_type": "code",
   "execution_count": null,
   "metadata": {},
   "outputs": [],
   "source": [
    "from nams.solutions import airport\n",
    "import inspect\n",
    "\n",
    "print(inspect.getsource(airport))"
   ]
  }
 ],
 "metadata": {
  "jupytext": {
   "notebook_metadata_filter": "all"
  },
  "kernelspec": {
   "display_name": "nams",
   "language": "python",
   "name": "nams"
  },
  "language_info": {
   "codemirror_mode": {
    "name": "ipython",
    "version": 3
   },
   "file_extension": ".py",
   "mimetype": "text/x-python",
   "name": "python",
   "nbconvert_exporter": "python",
   "pygments_lexer": "ipython3",
   "version": "3.7.7"
  }
 },
 "nbformat": 4,
 "nbformat_minor": 4
}
