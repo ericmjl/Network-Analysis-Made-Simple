{
 "cells": [
  {
   "cell_type": "code",
   "execution_count": null,
   "metadata": {},
   "outputs": [],
   "source": [
    "%load_ext autoreload\n",
    "%autoreload 2\n",
    "%matplotlib inline\n",
    "%config InlineBackend.figure_format = 'retina'"
   ]
  },
  {
   "cell_type": "markdown",
   "metadata": {
    "slideshow": {
     "slide_type": "slide"
    }
   },
   "source": [
    "## Introduction"
   ]
  },
  {
   "cell_type": "code",
   "execution_count": null,
   "metadata": {},
   "outputs": [],
   "source": [
    "from IPython.display import YouTubeVideo\n",
    "\n",
    "YouTubeVideo(id='sdF0uJo2KdU', width=\"100%\")"
   ]
  },
  {
   "cell_type": "markdown",
   "metadata": {
    "slideshow": {
     "slide_type": "slide"
    }
   },
   "source": [
    "In this chapter, we will introduce you to the NetworkX API.\n",
    "This will allow you to create and manipulate graphs in your computer memory,\n",
    "thus giving you a language \n",
    "to more concretely explore graph theory ideas.\n",
    "\n",
    "Throughout the book, we will be using different graph datasets\n",
    "to help us anchor ideas.\n",
    "In this section, we will work with a social network of seventh graders.\n",
    "Here, nodes are individual students,\n",
    "and edges represent their relationships.\n",
    "Edges between individuals show how often\n",
    "the seventh graders indicated other seventh graders as their favourite.\n",
    "\n",
    "The data are taken from the [Konect] graph data repository\n",
    "\n",
    "[Konect]: http://konect.uni-koblenz.de/networks/moreno_seventh"
   ]
  },
  {
   "cell_type": "markdown",
   "metadata": {
    "slideshow": {
     "slide_type": "slide"
    }
   },
   "source": [
    "## Data Model\n",
    "\n",
    "In NetworkX, graph data are stored in a dictionary-like fashion.\n",
    "They are placed under a `Graph` object,\n",
    "canonically instantiated with the variable `G` as follows:\n",
    "\n",
    "```python\n",
    "G = nx.Graph()\n",
    "```\n",
    "\n",
    "Of course, you are free to name the graph anything you want!\n",
    "\n",
    "Nodes are part of the attribute `G.nodes`.\n",
    "There, the node data are housed in a dictionary-like container,\n",
    "where the key is the node ID\n",
    "and the values are a dictionary of attributes. \n",
    "Node data are accessible using syntax that looks like:\n",
    "\n",
    "```python\n",
    "G.nodes[node1]\n",
    "```\n",
    "\n",
    "Edges are part of the attribute `G.edges`,\n",
    "which is also stored in a dictionary-like container.\n",
    "Edge data are accessible using syntax that looks like: \n",
    "\n",
    "```python\n",
    "G.edges[node1, node2]\n",
    "```\n",
    "Because of the dictionary-like implementation of the graph,\n",
    "any hashable object can be a node.\n",
    "This means strings and tuples, but not lists and sets."
   ]
  },
  {
   "cell_type": "markdown",
   "metadata": {
    "slideshow": {
     "slide_type": "slide"
    }
   },
   "source": [
    "## Load Data\n",
    "\n",
    "Let's load some real network data to get a feel for the NetworkX API. This [dataset](http://konect.uni-koblenz.de/networks/moreno_seventh) comes from a study of 7th grade students.\n",
    "\n",
    "> This directed network contains proximity ratings between students\n",
    "> from 29 seventh grade students from a school in Victoria.\n",
    "> Among other questions the students were asked\n",
    "> to nominate their preferred classmates for three different activities.\n",
    "> A node represents a student.\n",
    "> An edge between two nodes shows that\n",
    "> the left student picked the right student as his or her answer.\n",
    "> The edge weights are between 1 and 3 \n",
    "> and show how often the left student chose the right student as his/her favourite.\n",
    "\n",
    "In the original dataset, students were from an all-boys school.\n",
    "However, I have modified the dataset to instead be a mixed-gender school."
   ]
  },
  {
   "cell_type": "code",
   "execution_count": null,
   "metadata": {
    "slideshow": {
     "slide_type": "slide"
    }
   },
   "outputs": [],
   "source": [
    "import networkx as nx\n",
    "from datetime import datetime\n",
    "import matplotlib.pyplot as plt\n",
    "import numpy as np\n",
    "import warnings\n",
    "from nams import load_data as cf\n",
    "\n",
    "warnings.filterwarnings('ignore')"
   ]
  },
  {
   "cell_type": "code",
   "execution_count": null,
   "metadata": {
    "slideshow": {
     "slide_type": "fragment"
    }
   },
   "outputs": [],
   "source": [
    "G = cf.load_seventh_grader_network()"
   ]
  },
  {
   "cell_type": "markdown",
   "metadata": {
    "slideshow": {
     "slide_type": "slide"
    }
   },
   "source": [
    "## Understanding a graph's basic statistics\n",
    "\n",
    "When you get graph data,\n",
    "one of the first things you'll want to do is to\n",
    "check its basic graph statistics:\n",
    "the number of nodes\n",
    "and the number of edges\n",
    "that are represented in the graph.\n",
    "This is a basic sanity-check on your data\n",
    "that you don't want to skip out on.\n",
    "\n",
    "### Querying graph type\n",
    "\n",
    "The first thing you need to know is the `type` of the graph:"
   ]
  },
  {
   "cell_type": "code",
   "execution_count": null,
   "metadata": {},
   "outputs": [],
   "source": [
    "type(G)"
   ]
  },
  {
   "cell_type": "markdown",
   "metadata": {},
   "source": [
    "Because the graph is a `DiGraph`,\n",
    "this tells us that the graph is a **directed** one.\n",
    "\n",
    "If it were undirected, the type would change:"
   ]
  },
  {
   "cell_type": "code",
   "execution_count": null,
   "metadata": {},
   "outputs": [],
   "source": [
    "H = nx.Graph()\n",
    "type(H)"
   ]
  },
  {
   "cell_type": "markdown",
   "metadata": {},
   "source": [
    "### Querying node information\n",
    "\n",
    "Let's now query for the nodeset:"
   ]
  },
  {
   "cell_type": "code",
   "execution_count": null,
   "metadata": {},
   "outputs": [],
   "source": [
    "list(G.nodes())[0:5]"
   ]
  },
  {
   "cell_type": "markdown",
   "metadata": {},
   "source": [
    "`G.nodes()` returns a \"view\" on the nodes.\n",
    "We can't actually slice into the view and grab out a sub-selection,\n",
    "but we can _at least_ see what nodes are present.\n",
    "For brevity, we have sliced into `G.nodes()` passed into a `list()` constructor,\n",
    "so that we don't pollute the output.\n",
    "Because a `NodeView` is iterable, though,\n",
    "we can query it for its length:"
   ]
  },
  {
   "cell_type": "code",
   "execution_count": null,
   "metadata": {},
   "outputs": [],
   "source": [
    "len(G.nodes())"
   ]
  },
  {
   "cell_type": "markdown",
   "metadata": {},
   "source": [
    "If our nodes have metadata attached to them,\n",
    "we can view the metadata at the same time\n",
    "by passing in `data=True`:"
   ]
  },
  {
   "cell_type": "code",
   "execution_count": null,
   "metadata": {},
   "outputs": [],
   "source": [
    "list(G.nodes(data=True))[0:5]"
   ]
  },
  {
   "cell_type": "markdown",
   "metadata": {},
   "source": [
    "G.nodes(data=True) returns a `NodeDataView`,\n",
    "which you can see is dictionary-like.\n",
    "\n",
    "Additionally, we can select out individual nodes:"
   ]
  },
  {
   "cell_type": "code",
   "execution_count": null,
   "metadata": {},
   "outputs": [],
   "source": [
    "G.nodes[1]"
   ]
  },
  {
   "cell_type": "markdown",
   "metadata": {},
   "source": [
    "Now, because a `NodeDataView` is dictionary-like,\n",
    "looping over `G.nodes(data=True)`\n",
    "is very much like looping over key-value pairs of a dictionary.\n",
    "As such, we can write things like:\n",
    "\n",
    "```python\n",
    "for n, d in G.nodes(data=True):\n",
    "    # n is the node\n",
    "    # d is the metadata dictionary\n",
    "    ...\n",
    "```\n",
    "\n",
    "This is analogous to how we would loop over a dictionary:\n",
    "\n",
    "```python\n",
    "for k, v in dictionary.items():\n",
    "    # do stuff in the loop\n",
    "```\n",
    "\n",
    "Naturally, this leads us to our first exercise.\n",
    "\n",
    "### Exercise: Summarizing node metadata\n",
    "\n",
    "> Can you count how many males and females are represented in the graph?"
   ]
  },
  {
   "cell_type": "code",
   "execution_count": null,
   "metadata": {},
   "outputs": [],
   "source": [
    "from nams.solutions.intro import node_metadata\n",
    "\n",
    "#### REPLACE THE NEXT LINE WITH YOUR ANSWER\n",
    "mf_counts = node_metadata(G)"
   ]
  },
  {
   "cell_type": "markdown",
   "metadata": {},
   "source": [
    "Test your implementation by checking it against the `test_answer` function below."
   ]
  },
  {
   "cell_type": "code",
   "execution_count": null,
   "metadata": {
    "slideshow": {
     "slide_type": "fragment"
    }
   },
   "outputs": [],
   "source": [
    "from typing import Dict\n",
    "\n",
    "def test_answer(mf_counts: Dict):\n",
    "    assert mf_counts['female'] == 17\n",
    "    assert mf_counts['male'] == 12\n",
    "    \n",
    "test_answer(mf_counts)"
   ]
  },
  {
   "cell_type": "markdown",
   "metadata": {},
   "source": [
    "With this dictionary-like syntax,\n",
    "we can query back the metadata that's associated with any node."
   ]
  },
  {
   "cell_type": "markdown",
   "metadata": {},
   "source": [
    "### Querying edge information\n",
    "\n",
    "Now that you've learned how to query for node information,\n",
    "let's now see how to query for all of the edges in the graph:"
   ]
  },
  {
   "cell_type": "code",
   "execution_count": null,
   "metadata": {},
   "outputs": [],
   "source": [
    "list(G.edges())[0:5]"
   ]
  },
  {
   "cell_type": "markdown",
   "metadata": {},
   "source": [
    "Similar to the `NodeView`, `G.edges()` returns an `EdgeView` that is also iterable.\n",
    "As with above, we have abbreviated the output inside a sliced list\n",
    "to keep things readable.\n",
    "Because `G.edges()` is iterable, we can get its length to see the number of edges\n",
    "that are present in a graph."
   ]
  },
  {
   "cell_type": "code",
   "execution_count": null,
   "metadata": {},
   "outputs": [],
   "source": [
    "len(G.edges())"
   ]
  },
  {
   "cell_type": "markdown",
   "metadata": {},
   "source": [
    "Likewise, we can also query for all of the edge's metadata:"
   ]
  },
  {
   "cell_type": "code",
   "execution_count": null,
   "metadata": {},
   "outputs": [],
   "source": [
    "list(G.edges(data=True))[0:5]"
   ]
  },
  {
   "cell_type": "markdown",
   "metadata": {},
   "source": [
    "Additionally, it is possible for us to select out individual edges, as long as they exist in the graph:"
   ]
  },
  {
   "cell_type": "code",
   "execution_count": null,
   "metadata": {},
   "outputs": [],
   "source": [
    "G.edges[15, 10]"
   ]
  },
  {
   "cell_type": "markdown",
   "metadata": {},
   "source": [
    "This yields the metadata dictionary for that edge.\n",
    "\n",
    "If the edge does not exist, then we get an error:\n",
    "\n",
    "```python\n",
    ">>> G.edges[15, 16]\n",
    "```\n",
    "\n",
    "```python\n",
    "---------------------------------------------------------------------------\n",
    "KeyError                                  Traceback (most recent call last)\n",
    "<ipython-input-21-ce014cab875a> in <module>\n",
    "----> 1 G.edges[15, 16]\n",
    "\n",
    "~/anaconda/envs/nams/lib/python3.7/site-packages/networkx/classes/reportviews.py in __getitem__(self, e)\n",
    "    928     def __getitem__(self, e):\n",
    "    929         u, v = e\n",
    "--> 930         return self._adjdict[u][v]\n",
    "    931 \n",
    "    932     # EdgeDataView methods\n",
    "\n",
    "KeyError: 16\n",
    "```"
   ]
  },
  {
   "cell_type": "markdown",
   "metadata": {},
   "source": [
    "As with the `NodeDataView`, the `EdgeDataView` is dictionary-like,\n",
    "with the difference being that the keys are 2-tuple-like\n",
    "instead of being single hashable objects.\n",
    "Thus, we can write syntax like the following to loop over the edgelist:\n",
    "\n",
    "```python\n",
    "for n1, n2, d in G.edges(data=True):\n",
    "    # n1, n2 are the nodes\n",
    "    # d is the metadata dictionary\n",
    "    ...\n",
    "```\n",
    "\n",
    "Naturally, this leads us to our next exercise."
   ]
  },
  {
   "cell_type": "markdown",
   "metadata": {},
   "source": [
    "### Exercise: Summarizing edge metadata\n",
    "\n",
    "> Can you write code to verify\n",
    "> that the maximum times any student rated another student as their favourite\n",
    "> is 3 times?"
   ]
  },
  {
   "cell_type": "code",
   "execution_count": null,
   "metadata": {},
   "outputs": [],
   "source": [
    "from nams.solutions.intro import edge_metadata\n",
    "\n",
    "#### REPLACE THE NEXT LINE WITH YOUR ANSWER\n",
    "maxcount = edge_metadata(G)"
   ]
  },
  {
   "cell_type": "markdown",
   "metadata": {},
   "source": [
    "Likewise, you can test your answer using the test function below:"
   ]
  },
  {
   "cell_type": "code",
   "execution_count": null,
   "metadata": {},
   "outputs": [],
   "source": [
    "def test_maxcount(maxcount):\n",
    "    assert maxcount == 3\n",
    "    \n",
    "test_maxcount(maxcount)"
   ]
  },
  {
   "cell_type": "markdown",
   "metadata": {},
   "source": [
    "## Manipulating the graph\n",
    "\n",
    "Great stuff! You now know how to query a graph for:\n",
    "\n",
    "- its node set, optionally including metadata\n",
    "- individual node metadata\n",
    "- its edge set, optionally including metadata, and \n",
    "- individual edges' metadata\n",
    "\n",
    "Now, let's learn how to manipulate the graph.\n",
    "Specifically, we'll learn how to add nodes and edges to a graph.\n",
    "\n",
    "### Adding Nodes\n",
    "\n",
    "The NetworkX graph API lets you add a node easily:\n",
    "\n",
    "```python\n",
    "G.add_node(node, node_data1=some_value, node_data2=some_value)\n",
    "```\n",
    "\n",
    "### Adding Edges\n",
    "\n",
    "It also allows you to add an edge easily:\n",
    "\n",
    "```python\n",
    "G.add_edge(node1, node2, edge_data1=some_value, edge_data2=some_value)\n",
    "```\n",
    "\n",
    "### Metadata by Keyword Arguments\n",
    "\n",
    "In both cases, the keyword arguments that are passed into `.add_node()`\n",
    "are automatically collected into the metadata dictionary.\n",
    "\n",
    "Knowing this gives you enough knowledge to tackle the next exercise.\n",
    "\n",
    "### Exercise: adding students to the graph\n",
    "\n",
    "> We found out that there are two students that we left out of the network,\n",
    "> student no. 30 and 31. \n",
    "> They are one male (30) and one female (31), \n",
    "> and they are a pair that just love hanging out with one another \n",
    "> and with individual 7 (i.e. `count=3`), in both directions per pair. \n",
    "> Add this information to the graph."
   ]
  },
  {
   "cell_type": "code",
   "execution_count": null,
   "metadata": {},
   "outputs": [],
   "source": [
    "from nams.solutions.intro import adding_students\n",
    "\n",
    "#### REPLACE THE NEXT LINE WITH YOUR ANSWER\n",
    "G = adding_students(G)"
   ]
  },
  {
   "cell_type": "markdown",
   "metadata": {
    "slideshow": {
     "slide_type": "subslide"
    }
   },
   "source": [
    "You can verify that the graph has been correctly created\n",
    "by executing the test function below."
   ]
  },
  {
   "cell_type": "code",
   "execution_count": null,
   "metadata": {
    "slideshow": {
     "slide_type": "fragment"
    }
   },
   "outputs": [],
   "source": [
    "def test_graph_integrity(G):\n",
    "    assert 30 in G.nodes()\n",
    "    assert 31 in G.nodes()\n",
    "    assert G.nodes[30]['gender'] == 'male'\n",
    "    assert G.nodes[31]['gender'] == 'female'\n",
    "    assert G.has_edge(30, 31)\n",
    "    assert G.has_edge(30, 7)\n",
    "    assert G.has_edge(31, 7)\n",
    "    assert G.edges[30, 7]['count'] == 3\n",
    "    assert G.edges[7, 30]['count'] == 3\n",
    "    assert G.edges[31, 7]['count'] == 3\n",
    "    assert G.edges[7, 31]['count'] == 3\n",
    "    assert G.edges[30, 31]['count'] == 3\n",
    "    assert G.edges[31, 30]['count'] == 3\n",
    "    print('All tests passed.')\n",
    "    \n",
    "test_graph_integrity(G)"
   ]
  },
  {
   "cell_type": "markdown",
   "metadata": {
    "slideshow": {
     "slide_type": "slide"
    }
   },
   "source": [
    "## Coding Patterns\n",
    "\n",
    "These are some recommended coding patterns when doing network analysis using NetworkX,\n",
    "which stem from my personal experience with the package."
   ]
  },
  {
   "cell_type": "markdown",
   "metadata": {
    "slideshow": {
     "slide_type": "subslide"
    }
   },
   "source": [
    "### Iterating using List Comprehensions\n",
    "I would recommend that you use the following for compactness: \n",
    "\n",
    "```python\n",
    "[d['attr'] for n, d in G.nodes(data=True)]\n",
    "```\n",
    "\n",
    "And if the node is unimportant, you can do:\n",
    "\n",
    "```python\n",
    "[d['attr'] for _, d in G.nodes(data=True)]\n",
    "```"
   ]
  },
  {
   "cell_type": "markdown",
   "metadata": {
    "slideshow": {
     "slide_type": "subslide"
    }
   },
   "source": [
    "### Iterating over Edges using List Comprehensions\n",
    "\n",
    "A similar pattern can be used for edges:\n",
    "\n",
    "```python\n",
    "[n2 for n1, n2, d in G.edges(data=True)]\n",
    "```\n",
    "\n",
    "or\n",
    "\n",
    "```python\n",
    "[n2 for _, n2, d in G.edges(data=True)]\n",
    "```\n",
    "\n",
    "If the graph you are constructing is a directed graph,\n",
    "with a \"source\" and \"sink\" available,\n",
    "then I would recommend the following naming of variables instead:\n",
    "\n",
    "```python\n",
    "[(sc, sk) for sc, sk, d in G.edges(data=True)]\n",
    "```\n",
    "\n",
    "or \n",
    "\n",
    "```python\n",
    "[d['attr'] for sc, sk, d in G.edges(data=True)]\n",
    "```"
   ]
  },
  {
   "cell_type": "markdown",
   "metadata": {},
   "source": [
    "## Further Reading\n",
    "\n",
    "For a deeper look at the NetworkX API,\n",
    "be sure to check out the [NetworkX docs][nxdocs].\n",
    "\n",
    "[nxdocs]: https://networkx.readthedocs.io"
   ]
  },
  {
   "cell_type": "markdown",
   "metadata": {},
   "source": [
    "## Further Exercises\n",
    "\n",
    "Here's some further exercises that you can use to get some practice.\n",
    "\n",
    "### Exercise: Unrequited Friendships\n",
    "\n",
    "> Try figuring out which students have \"unrequited\" friendships, that is, \n",
    "> they have rated another student as their favourite at least once, \n",
    "> but that other student has not rated them as their favourite at least once.\n",
    "\n",
    "_Hint: the goal here is to get a list of edges for which the reverse edge is not present._\n",
    "\n",
    "_Hint: You may need the class method `G.has_edge(n1, n2)`. This returns whether a graph has an edge between the nodes `n1` and `n2`._"
   ]
  },
  {
   "cell_type": "code",
   "execution_count": null,
   "metadata": {},
   "outputs": [],
   "source": [
    "from nams.solutions.intro import unrequitted_friendships_v1\n",
    "#### REPLACE THE NEXT LINE WITH YOUR ANSWER\n",
    "unrequitted_friendships = unrequitted_friendships_v1(G)\n",
    "assert len(unrequitted_friendships) == 124"
   ]
  },
  {
   "cell_type": "markdown",
   "metadata": {},
   "source": [
    "In a previous session at ODSC East 2018, a few other class participants provided the following solutions,\n",
    "which you can take a look at by uncommenting the following cells."
   ]
  },
  {
   "cell_type": "markdown",
   "metadata": {},
   "source": [
    "This first one by [@schwanne](https://github.com/schwanne) is the list comprehension version of the above solution:"
   ]
  },
  {
   "cell_type": "code",
   "execution_count": null,
   "metadata": {},
   "outputs": [],
   "source": [
    "from nams.solutions.intro import unrequitted_friendships_v2\n",
    "# unrequitted_friendships_v2??"
   ]
  },
  {
   "cell_type": "markdown",
   "metadata": {},
   "source": [
    "This one by [@end0](https://github.com/end0) is a unique one involving sets."
   ]
  },
  {
   "cell_type": "code",
   "execution_count": null,
   "metadata": {},
   "outputs": [],
   "source": [
    "from nams.solutions.intro import unrequitted_friendships_v3\n",
    "# unrequitted_friendships_v3??"
   ]
  },
  {
   "cell_type": "markdown",
   "metadata": {},
   "source": [
    "## Solution Answers\n",
    "\n",
    "Here are the answers to the exercises above."
   ]
  },
  {
   "cell_type": "code",
   "execution_count": null,
   "metadata": {},
   "outputs": [],
   "source": [
    "import nams.solutions.intro as solutions\n",
    "import inspect\n",
    "\n",
    "print(inspect.getsource(solutions))"
   ]
  }
 ],
 "metadata": {
  "anaconda-cloud": {},
  "celltoolbar": "Slideshow",
  "kernelspec": {
   "display_name": "nams",
   "language": "python",
   "name": "nams"
  },
  "language_info": {
   "codemirror_mode": {
    "name": "ipython",
    "version": 3
   },
   "file_extension": ".py",
   "mimetype": "text/x-python",
   "name": "python",
   "nbconvert_exporter": "python",
   "pygments_lexer": "ipython3",
   "version": "3.7.7"
  },
  "toc": {
   "colors": {
    "hover_highlight": "#DAA520",
    "navigate_num": "#000000",
    "navigate_text": "#333333",
    "running_highlight": "#FF0000",
    "selected_highlight": "#FFD700",
    "sidebar_border": "#EEEEEE",
    "wrapper_background": "#FFFFFF"
   },
   "moveMenuLeft": true,
   "nav_menu": {
    "height": "297px",
    "width": "252px"
   },
   "navigate_menu": true,
   "number_sections": true,
   "sideBar": true,
   "threshold": 4,
   "toc_cell": false,
   "toc_position": {
    "height": "530px",
    "left": "0px",
    "right": "1068px",
    "top": "33px",
    "width": "212px"
   },
   "toc_section_display": "block",
   "toc_window_display": true,
   "widenNotebook": false
  },
  "varInspector": {
   "cols": {
    "lenName": 16,
    "lenType": 16,
    "lenVar": 40
   },
   "kernels_config": {
    "python": {
     "delete_cmd_postfix": "",
     "delete_cmd_prefix": "del ",
     "library": "var_list.py",
     "varRefreshCmd": "print(var_dic_list())"
    },
    "r": {
     "delete_cmd_postfix": ") ",
     "delete_cmd_prefix": "rm(",
     "library": "var_list.r",
     "varRefreshCmd": "cat(var_dic_list()) "
    }
   },
   "types_to_exclude": [
    "module",
    "function",
    "builtin_function_or_method",
    "instance",
    "_Feature"
   ],
   "window_display": false
  }
 },
 "nbformat": 4,
 "nbformat_minor": 4
}
